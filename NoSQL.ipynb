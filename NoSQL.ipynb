{
  "nbformat": 4,
  "nbformat_minor": 0,
  "metadata": {
    "colab": {
      "provenance": []
    },
    "kernelspec": {
      "name": "python3",
      "display_name": "Python 3"
    },
    "language_info": {
      "name": "python"
    }
  },
  "cells": [
    {
      "cell_type": "markdown",
      "source": [
        "# No SQL\n",
        "\n",
        "## Objetivo:\n",
        " Encontrar segmentos de poblacion con poca representacion en Nobel\n",
        "## Req\n",
        "- Listado de Mujerers ganadoras del Nobel\n",
        "  - Que % de total de premiados... (Python o mongo)\n",
        "- Listado de 10 paises con menos premios Nobel\n",
        "  - Que % representan del total de paises premiados...\n",
        "- Listado de Categorias con menor representacion de mujeres\n",
        "- Listado de paises con menor representacion de mujeres\n",
        "- Listado de anios donde el numero de paises representados es menor al promedio historico\n",
        "\n",
        "### Steps:\n",
        "1. Instalar MongoDB\n",
        "2. Importar archivos\n",
        "3. Generar las consultas, agg y Proyecciones necesarias\n",
        "4. A partir del paso ant generear las operaciones necesarias para los %\n",
        "5. Almacenar el resultado en un variable que tenga el nombre del dato\n",
        "6. Justifica tus decisiones e interpreta los resultados"
      ],
      "metadata": {
        "id": "lUpPVw-8l3Gi"
      }
    },
    {
      "cell_type": "code",
      "source": [
        "#!apt install mongodb >log\n",
        "#!service mongodb start"
      ],
      "metadata": {
        "id": "tx33pQ5Xq4L2"
      },
      "execution_count": 1,
      "outputs": []
    },
    {
      "cell_type": "code",
      "source": [
        "#!sudo apt update\n",
        "#!sudo apt install mongodb\n",
        "#!sudo apt install mongodb-org"
      ],
      "metadata": {
        "id": "iiBAPG3yqGmT"
      },
      "execution_count": 2,
      "outputs": []
    },
    {
      "cell_type": "code",
      "source": [
        "#!sudo wget http://archive.ubuntu.com/ubuntu/pool/main/o/openssl/libssl1.1_1.1.1f-1ubuntu2_amd64.deb"
      ],
      "metadata": {
        "id": "cMmcq5I8q6KN"
      },
      "execution_count": 3,
      "outputs": []
    },
    {
      "cell_type": "code",
      "source": [
        "#!sudo dpkg -i libssl1.1_1.1.1f-1ubuntu2_amd64.deb"
      ],
      "metadata": {
        "id": "zhWU7qJ8q-kd"
      },
      "execution_count": 4,
      "outputs": []
    },
    {
      "cell_type": "code",
      "source": [
        "#!sudo apt-get update\n",
        "#!sudo apt-get install -y mongodb-org"
      ],
      "metadata": {
        "id": "JHn2AymArDlu"
      },
      "execution_count": 5,
      "outputs": []
    },
    {
      "cell_type": "code",
      "source": [
        "#!sudo rm libssl1.1_1.1.1f-1ubuntu2_amd64.deb"
      ],
      "metadata": {
        "id": "uMU9odRFrLUa"
      },
      "execution_count": 6,
      "outputs": []
    },
    {
      "cell_type": "code",
      "source": [
        "\"\"\" From web but also failed\n",
        "# MongoDB download and installation\n",
        "!wget https://fastdl.mongodb.org/linux/mongodb-linux-x86_64-debian71-3.0.15.tgz  # Downloads MongoDB from official repository\n",
        "!tar xfv mongodb-linux-x86_64-debian71-3.0.15.tgz     # Unpack compressed file\n",
        "!rm mongodb-linux-x86_64-debian71-3.0.15.tgz          # Removes downloaded file\n",
        "\n",
        "# Default location of database is \"/data/db\" folder\n",
        "!mkdir /data                                          # data folder creation\n",
        "!mkdir /data/db                                       # db folder creation inside data\n",
        "\"\"\""
      ],
      "metadata": {
        "colab": {
          "base_uri": "https://localhost:8080/",
          "height": 90
        },
        "id": "mur66l-3o2XM",
        "outputId": "0186f2eb-6be8-4160-a8d4-2a792e5c3781"
      },
      "execution_count": 7,
      "outputs": [
        {
          "output_type": "execute_result",
          "data": {
            "text/plain": [
              "' From web but also failed\\n# MongoDB download and installation\\n!wget https://fastdl.mongodb.org/linux/mongodb-linux-x86_64-debian71-3.0.15.tgz  # Downloads MongoDB from official repository\\n!tar xfv mongodb-linux-x86_64-debian71-3.0.15.tgz     # Unpack compressed file\\n!rm mongodb-linux-x86_64-debian71-3.0.15.tgz          # Removes downloaded file\\n\\n# Default location of database is \"/data/db\" folder\\n!mkdir /data                                          # data folder creation\\n!mkdir /data/db                                       # db folder creation inside data\\n'"
            ],
            "application/vnd.google.colaboratory.intrinsic+json": {
              "type": "string"
            }
          },
          "metadata": {},
          "execution_count": 7
        }
      ]
    },
    {
      "cell_type": "code",
      "source": [
        "#despues de preguntarle al super team de TLG:\n",
        "\n",
        "!apt update\n",
        "!apt install wget curl gnupg2 software-properties-common apt-transport-https ca-certificates lsb-release\n",
        "!curl -fsSL https://www.mongodb.org/static/pgp/server-6.0.asc|sudo gpg --dearmor -o /etc/apt/trusted.gpg.d/mongodb-6.gpg\n",
        "!echo \"deb [ arch=amd64,arm64 ] https://repo.mongodb.org/apt/ubuntu $(lsb_release -cs)/mongodb-org/6.0 multiverse\" | tee /etc/apt/sources.list.d/mongodb-org-6.0.list\n",
        "!apt update\n",
        "!apt install mongodb-org\n",
        "!mkdir /data\n",
        "!mkdir /data/db\n",
        "!mongod --fork --logpath /var/log/mongodb/mongod.log"
      ],
      "metadata": {
        "collapsed": true,
        "colab": {
          "base_uri": "https://localhost:8080/"
        },
        "id": "plUhxjs2lrKK",
        "outputId": "21056ac3-1a81-4d48-d8ac-814d90d20d41"
      },
      "execution_count": 8,
      "outputs": [
        {
          "output_type": "stream",
          "name": "stdout",
          "text": [
            "\u001b[33m\r0% [Working]\u001b[0m\r            \rHit:1 http://archive.ubuntu.com/ubuntu jammy InRelease\n",
            "Get:2 http://archive.ubuntu.com/ubuntu jammy-updates InRelease [119 kB]\n",
            "Hit:3 https://developer.download.nvidia.com/compute/cuda/repos/ubuntu2204/x86_64  InRelease\n",
            "Get:4 http://security.ubuntu.com/ubuntu jammy-security InRelease [110 kB]\n",
            "Hit:5 https://cloud.r-project.org/bin/linux/ubuntu jammy-cran40/ InRelease\n",
            "Hit:6 http://archive.ubuntu.com/ubuntu jammy-backports InRelease\n",
            "Ign:7 https://repo.mongodb.org/apt/ubuntu jammy/mongodb-org/6.0 InRelease\n",
            "Hit:8 https://repo.mongodb.org/apt/ubuntu jammy/mongodb-org/6.0 Release\n",
            "Hit:9 https://ppa.launchpadcontent.net/c2d4u.team/c2d4u4.0+/ubuntu jammy InRelease\n",
            "Hit:10 https://ppa.launchpadcontent.net/deadsnakes/ppa/ubuntu jammy InRelease\n",
            "Hit:11 https://ppa.launchpadcontent.net/graphics-drivers/ppa/ubuntu jammy InRelease\n",
            "Hit:13 https://ppa.launchpadcontent.net/ubuntugis/ppa/ubuntu jammy InRelease\n",
            "Fetched 229 kB in 2s (143 kB/s)\n",
            "Reading package lists... Done\n",
            "Building dependency tree... Done\n",
            "Reading state information... Done\n",
            "45 packages can be upgraded. Run 'apt list --upgradable' to see them.\n",
            "Reading package lists... Done\n",
            "Building dependency tree... Done\n",
            "Reading state information... Done\n",
            "lsb-release is already the newest version (11.1.0ubuntu4).\n",
            "wget is already the newest version (1.21.2-2ubuntu1).\n",
            "ca-certificates is already the newest version (20230311ubuntu0.22.04.1).\n",
            "curl is already the newest version (7.81.0-1ubuntu1.16).\n",
            "software-properties-common is already the newest version (0.99.22.9).\n",
            "apt-transport-https is already the newest version (2.4.12).\n",
            "gnupg2 is already the newest version (2.2.27-3ubuntu2.1).\n",
            "0 upgraded, 0 newly installed, 0 to remove and 45 not upgraded.\n",
            "gpg: cannot open '/dev/tty': No such device or address\n",
            "curl: (23) Failed writing body\n",
            "deb [ arch=amd64,arm64 ] https://repo.mongodb.org/apt/ubuntu jammy/mongodb-org/6.0 multiverse\n",
            "Hit:1 http://security.ubuntu.com/ubuntu jammy-security InRelease\n",
            "Hit:2 http://archive.ubuntu.com/ubuntu jammy InRelease\n",
            "Hit:3 http://archive.ubuntu.com/ubuntu jammy-updates InRelease\n",
            "Hit:4 http://archive.ubuntu.com/ubuntu jammy-backports InRelease\n",
            "Hit:5 https://cloud.r-project.org/bin/linux/ubuntu jammy-cran40/ InRelease\n",
            "Hit:6 https://developer.download.nvidia.com/compute/cuda/repos/ubuntu2204/x86_64  InRelease\n",
            "Ign:7 https://repo.mongodb.org/apt/ubuntu jammy/mongodb-org/6.0 InRelease\n",
            "Hit:8 https://repo.mongodb.org/apt/ubuntu jammy/mongodb-org/6.0 Release\n",
            "Hit:9 https://ppa.launchpadcontent.net/c2d4u.team/c2d4u4.0+/ubuntu jammy InRelease\n",
            "Hit:10 https://ppa.launchpadcontent.net/deadsnakes/ppa/ubuntu jammy InRelease\n",
            "Hit:11 https://ppa.launchpadcontent.net/graphics-drivers/ppa/ubuntu jammy InRelease\n",
            "Hit:12 https://ppa.launchpadcontent.net/ubuntugis/ppa/ubuntu jammy InRelease\n",
            "Reading package lists... Done\n",
            "Building dependency tree... Done\n",
            "Reading state information... Done\n",
            "45 packages can be upgraded. Run 'apt list --upgradable' to see them.\n",
            "Reading package lists... Done\n",
            "Building dependency tree... Done\n",
            "Reading state information... Done\n",
            "mongodb-org is already the newest version (6.0.15).\n",
            "0 upgraded, 0 newly installed, 0 to remove and 45 not upgraded.\n",
            "mkdir: cannot create directory ‘/data’: File exists\n",
            "mkdir: cannot create directory ‘/data/db’: File exists\n",
            "about to fork child process, waiting until server is ready for connections.\n",
            "forked process: 16951\n",
            "ERROR: child process failed, exited with 48\n",
            "To see additional information in this output, start without the \"--fork\" option.\n"
          ]
        }
      ]
    },
    {
      "cell_type": "code",
      "source": [
        "from google.colab import drive\n",
        "drive.mount(\"/content/gdrive\")"
      ],
      "metadata": {
        "colab": {
          "base_uri": "https://localhost:8080/"
        },
        "id": "RXo3n3QnnTXL",
        "outputId": "5e1305c3-2eca-4106-f6cb-2c99b7309188"
      },
      "execution_count": 9,
      "outputs": [
        {
          "output_type": "stream",
          "name": "stdout",
          "text": [
            "Drive already mounted at /content/gdrive; to attempt to forcibly remount, call drive.mount(\"/content/gdrive\", force_remount=True).\n"
          ]
        }
      ]
    },
    {
      "cell_type": "code",
      "source": [
        "!mongod"
      ],
      "metadata": {
        "id": "J8w1hBFTspZC",
        "colab": {
          "base_uri": "https://localhost:8080/"
        },
        "outputId": "57a6a9ba-93b8-4986-e5b6-146142aff14f"
      },
      "execution_count": 10,
      "outputs": [
        {
          "output_type": "stream",
          "name": "stdout",
          "text": [
            "{\"t\":{\"$date\":\"2024-05-18T18:29:26.805+00:00\"},\"s\":\"I\",  \"c\":\"CONTROL\",  \"id\":23285,   \"ctx\":\"-\",\"msg\":\"Automatically disabling TLS 1.0, to force-enable TLS 1.0 specify --sslDisabledProtocols 'none'\"}\n",
            "{\"t\":{\"$date\":\"2024-05-18T18:29:26.806+00:00\"},\"s\":\"I\",  \"c\":\"NETWORK\",  \"id\":4915701, \"ctx\":\"main\",\"msg\":\"Initialized wire specification\",\"attr\":{\"spec\":{\"incomingExternalClient\":{\"minWireVersion\":0,\"maxWireVersion\":17},\"incomingInternalClient\":{\"minWireVersion\":0,\"maxWireVersion\":17},\"outgoing\":{\"minWireVersion\":6,\"maxWireVersion\":17},\"isInternalClient\":true}}}\n",
            "{\"t\":{\"$date\":\"2024-05-18T18:29:26.806+00:00\"},\"s\":\"I\",  \"c\":\"NETWORK\",  \"id\":4648601, \"ctx\":\"main\",\"msg\":\"Implicit TCP FastOpen unavailable. If TCP FastOpen is required, set tcpFastOpenServer, tcpFastOpenClient, and tcpFastOpenQueueSize.\"}\n",
            "{\"t\":{\"$date\":\"2024-05-18T18:29:26.808+00:00\"},\"s\":\"I\",  \"c\":\"REPL\",     \"id\":5123008, \"ctx\":\"main\",\"msg\":\"Successfully registered PrimaryOnlyService\",\"attr\":{\"service\":\"TenantMigrationDonorService\",\"namespace\":\"config.tenantMigrationDonors\"}}\n",
            "{\"t\":{\"$date\":\"2024-05-18T18:29:26.808+00:00\"},\"s\":\"I\",  \"c\":\"REPL\",     \"id\":5123008, \"ctx\":\"main\",\"msg\":\"Successfully registered PrimaryOnlyService\",\"attr\":{\"service\":\"TenantMigrationRecipientService\",\"namespace\":\"config.tenantMigrationRecipients\"}}\n",
            "{\"t\":{\"$date\":\"2024-05-18T18:29:26.808+00:00\"},\"s\":\"I\",  \"c\":\"REPL\",     \"id\":5123008, \"ctx\":\"main\",\"msg\":\"Successfully registered PrimaryOnlyService\",\"attr\":{\"service\":\"ShardSplitDonorService\",\"namespace\":\"config.tenantSplitDonors\"}}\n",
            "{\"t\":{\"$date\":\"2024-05-18T18:29:26.808+00:00\"},\"s\":\"I\",  \"c\":\"CONTROL\",  \"id\":5945603, \"ctx\":\"main\",\"msg\":\"Multi threading initialized\"}\n",
            "{\"t\":{\"$date\":\"2024-05-18T18:29:26.809+00:00\"},\"s\":\"I\",  \"c\":\"CONTROL\",  \"id\":4615611, \"ctx\":\"initandlisten\",\"msg\":\"MongoDB starting\",\"attr\":{\"pid\":16969,\"port\":27017,\"dbPath\":\"/data/db\",\"architecture\":\"64-bit\",\"host\":\"e917ea813938\"}}\n",
            "{\"t\":{\"$date\":\"2024-05-18T18:29:26.809+00:00\"},\"s\":\"I\",  \"c\":\"CONTROL\",  \"id\":23403,   \"ctx\":\"initandlisten\",\"msg\":\"Build Info\",\"attr\":{\"buildInfo\":{\"version\":\"6.0.15\",\"gitVersion\":\"7494119c41ca4e13b493e9f048df4032164e860e\",\"openSSLVersion\":\"OpenSSL 3.0.2 15 Mar 2022\",\"modules\":[],\"allocator\":\"tcmalloc\",\"environment\":{\"distmod\":\"ubuntu2204\",\"distarch\":\"x86_64\",\"target_arch\":\"x86_64\"}}}}\n",
            "{\"t\":{\"$date\":\"2024-05-18T18:29:26.809+00:00\"},\"s\":\"I\",  \"c\":\"CONTROL\",  \"id\":51765,   \"ctx\":\"initandlisten\",\"msg\":\"Operating System\",\"attr\":{\"os\":{\"name\":\"Ubuntu\",\"version\":\"22.04\"}}}\n",
            "{\"t\":{\"$date\":\"2024-05-18T18:29:26.809+00:00\"},\"s\":\"I\",  \"c\":\"CONTROL\",  \"id\":21951,   \"ctx\":\"initandlisten\",\"msg\":\"Options set by command line\",\"attr\":{\"options\":{}}}\n",
            "{\"t\":{\"$date\":\"2024-05-18T18:29:26.810+00:00\"},\"s\":\"E\",  \"c\":\"CONTROL\",  \"id\":20568,   \"ctx\":\"initandlisten\",\"msg\":\"Error setting up listener\",\"attr\":{\"error\":{\"code\":9001,\"codeName\":\"SocketException\",\"errmsg\":\"Address already in use\"}}}\n",
            "{\"t\":{\"$date\":\"2024-05-18T18:29:26.810+00:00\"},\"s\":\"I\",  \"c\":\"REPL\",     \"id\":4784900, \"ctx\":\"initandlisten\",\"msg\":\"Stepping down the ReplicationCoordinator for shutdown\",\"attr\":{\"waitTimeMillis\":15000}}\n",
            "{\"t\":{\"$date\":\"2024-05-18T18:29:26.810+00:00\"},\"s\":\"I\",  \"c\":\"REPL\",     \"id\":4794602, \"ctx\":\"initandlisten\",\"msg\":\"Attempting to enter quiesce mode\"}\n",
            "{\"t\":{\"$date\":\"2024-05-18T18:29:26.810+00:00\"},\"s\":\"I\",  \"c\":\"-\",        \"id\":6371601, \"ctx\":\"initandlisten\",\"msg\":\"Shutting down the FLE Crud thread pool\"}\n",
            "{\"t\":{\"$date\":\"2024-05-18T18:29:26.810+00:00\"},\"s\":\"I\",  \"c\":\"COMMAND\",  \"id\":4784901, \"ctx\":\"initandlisten\",\"msg\":\"Shutting down the MirrorMaestro\"}\n",
            "{\"t\":{\"$date\":\"2024-05-18T18:29:26.810+00:00\"},\"s\":\"I\",  \"c\":\"SHARDING\", \"id\":4784902, \"ctx\":\"initandlisten\",\"msg\":\"Shutting down the WaitForMajorityService\"}\n",
            "{\"t\":{\"$date\":\"2024-05-18T18:29:26.810+00:00\"},\"s\":\"I\",  \"c\":\"NETWORK\",  \"id\":4784905, \"ctx\":\"initandlisten\",\"msg\":\"Shutting down the global connection pool\"}\n",
            "{\"t\":{\"$date\":\"2024-05-18T18:29:26.810+00:00\"},\"s\":\"I\",  \"c\":\"NETWORK\",  \"id\":4784918, \"ctx\":\"initandlisten\",\"msg\":\"Shutting down the ReplicaSetMonitor\"}\n",
            "{\"t\":{\"$date\":\"2024-05-18T18:29:26.810+00:00\"},\"s\":\"I\",  \"c\":\"SHARDING\", \"id\":4784921, \"ctx\":\"initandlisten\",\"msg\":\"Shutting down the MigrationUtilExecutor\"}\n",
            "{\"t\":{\"$date\":\"2024-05-18T18:29:26.810+00:00\"},\"s\":\"I\",  \"c\":\"ASIO\",     \"id\":22582,   \"ctx\":\"MigrationUtil-TaskExecutor\",\"msg\":\"Killing all outstanding egress activity.\"}\n",
            "{\"t\":{\"$date\":\"2024-05-18T18:29:26.810+00:00\"},\"s\":\"I\",  \"c\":\"COMMAND\",  \"id\":4784923, \"ctx\":\"initandlisten\",\"msg\":\"Shutting down the ServiceEntryPoint\"}\n",
            "{\"t\":{\"$date\":\"2024-05-18T18:29:26.810+00:00\"},\"s\":\"I\",  \"c\":\"CONTROL\",  \"id\":4784928, \"ctx\":\"initandlisten\",\"msg\":\"Shutting down the TTL monitor\"}\n",
            "{\"t\":{\"$date\":\"2024-05-18T18:29:26.810+00:00\"},\"s\":\"I\",  \"c\":\"CONTROL\",  \"id\":6278511, \"ctx\":\"initandlisten\",\"msg\":\"Shutting down the Change Stream Expired Pre-images Remover\"}\n",
            "{\"t\":{\"$date\":\"2024-05-18T18:29:26.810+00:00\"},\"s\":\"I\",  \"c\":\"CONTROL\",  \"id\":4784929, \"ctx\":\"initandlisten\",\"msg\":\"Acquiring the global lock for shutdown\"}\n",
            "{\"t\":{\"$date\":\"2024-05-18T18:29:26.810+00:00\"},\"s\":\"I\",  \"c\":\"-\",        \"id\":4784931, \"ctx\":\"initandlisten\",\"msg\":\"Dropping the scope cache for shutdown\"}\n",
            "{\"t\":{\"$date\":\"2024-05-18T18:29:26.810+00:00\"},\"s\":\"I\",  \"c\":\"CONTROL\",  \"id\":20565,   \"ctx\":\"initandlisten\",\"msg\":\"Now exiting\"}\n",
            "{\"t\":{\"$date\":\"2024-05-18T18:29:26.810+00:00\"},\"s\":\"I\",  \"c\":\"CONTROL\",  \"id\":8423404, \"ctx\":\"initandlisten\",\"msg\":\"shutdownTask complete\",\"attr\":{\"Summary of time elapsed\":{\"Statistics\":{\"Enter terminal shutdown\":\"0 ms\",\"Step down the replication coordinator for shutdown\":\"0 ms\",\"Time spent in quiesce mode\":\"0 ms\",\"Shut down FLE Crud subsystem\":\"0 ms\",\"Shut down MirrorMaestro\":\"0 ms\",\"Shut down WaitForMajorityService\":\"0 ms\",\"Shut down the global connection pool\":\"0 ms\",\"Shut down the replica set monitor\":\"0 ms\",\"Shut down the migration util executor\":\"0 ms\",\"Shut down the TTL monitor\":\"0 ms\",\"Shut down expired pre-images remover\":\"0 ms\",\"Shut down full-time data capture\":\"0 ms\",\"shutdownTask total elapsed time\":\"0 ms\"}}}}\n",
            "{\"t\":{\"$date\":\"2024-05-18T18:29:26.810+00:00\"},\"s\":\"I\",  \"c\":\"CONTROL\",  \"id\":23138,   \"ctx\":\"initandlisten\",\"msg\":\"Shutting down\",\"attr\":{\"exitCode\":48}}\n"
          ]
        }
      ]
    },
    {
      "cell_type": "code",
      "source": [
        "cd gdrive/"
      ],
      "metadata": {
        "colab": {
          "base_uri": "https://localhost:8080/"
        },
        "id": "NNSXBOPOm6CL",
        "outputId": "98f1ff2f-6641-435f-9303-991b384c7f53"
      },
      "execution_count": 11,
      "outputs": [
        {
          "output_type": "stream",
          "name": "stdout",
          "text": [
            "/content/gdrive\n"
          ]
        }
      ]
    },
    {
      "cell_type": "code",
      "source": [
        "# importar\n",
        "!mongoimport --host 127.0.0.1 --db nobel --collection laurates --type=json --file=MyDrive/NoSQL/json_laureates.json --jsonArray\n",
        "!mongoimport --host 127.0.0.1 --db nobel --collection awards --type json --file MyDrive/NoSQL/json_award.json --jsonArray\n"
      ],
      "metadata": {
        "id": "Vgqll5Vfn3mf",
        "colab": {
          "base_uri": "https://localhost:8080/"
        },
        "outputId": "8db3ede4-b093-4f96-a88d-8a379fd000e6"
      },
      "execution_count": 12,
      "outputs": [
        {
          "output_type": "stream",
          "name": "stdout",
          "text": [
            "2024-05-18T18:29:26.950+0000\tconnected to: mongodb://127.0.0.1/\n",
            "2024-05-18T18:29:27.474+0000\t943 document(s) imported successfully. 0 document(s) failed to import.\n",
            "2024-05-18T18:29:27.535+0000\tconnected to: mongodb://127.0.0.1/\n",
            "2024-05-18T18:29:27.696+0000\t646 document(s) imported successfully. 0 document(s) failed to import.\n"
          ]
        }
      ]
    },
    {
      "cell_type": "code",
      "source": [
        "!pip install pymongo\n",
        "\n",
        "from pymongo import MongoClient\n",
        "client = MongoClient('localhost', 27017)"
      ],
      "metadata": {
        "colab": {
          "base_uri": "https://localhost:8080/"
        },
        "id": "gIYiVATEn7qj",
        "outputId": "9eaccce4-4ae6-4a02-a463-f4bb75e0e295"
      },
      "execution_count": 13,
      "outputs": [
        {
          "output_type": "stream",
          "name": "stdout",
          "text": [
            "Requirement already satisfied: pymongo in /usr/local/lib/python3.10/dist-packages (4.7.2)\n",
            "Requirement already satisfied: dnspython<3.0.0,>=1.16.0 in /usr/local/lib/python3.10/dist-packages (from pymongo) (2.6.1)\n"
          ]
        }
      ]
    },
    {
      "cell_type": "code",
      "source": [
        "nobel = client['nobel']\n",
        "#referenciando"
      ],
      "metadata": {
        "id": "c1lE9IJOpV0J"
      },
      "execution_count": 14,
      "outputs": []
    },
    {
      "cell_type": "code",
      "source": [
        "lau = nobel.laurates\n",
        "awa = nobel.awards"
      ],
      "metadata": {
        "id": "LDNAPt-9pb4w"
      },
      "execution_count": 15,
      "outputs": []
    },
    {
      "cell_type": "code",
      "source": [
        "#EDA... laurates\n",
        "_query1 = list(lau.find({}))\n",
        "_query1[800]\n"
      ],
      "metadata": {
        "colab": {
          "base_uri": "https://localhost:8080/"
        },
        "id": "kwpvHlQZ9wtS",
        "outputId": "51e9918d-c458-432e-b761-e9c3e27c188d"
      },
      "execution_count": 16,
      "outputs": [
        {
          "output_type": "execute_result",
          "data": {
            "text/plain": [
              "{'_id': ObjectId('6648e86806e1424a4696daa0'),\n",
              " 'id': '680',\n",
              " 'knownName': {'en': 'Simon Kuznets', 'se': 'Simon Kuznets'},\n",
              " 'givenName': {'en': 'Simon', 'se': 'Simon'},\n",
              " 'familyName': {'en': 'Kuznets', 'se': 'Kuznets'},\n",
              " 'fullName': {'en': 'Simon Kuznets', 'se': 'Simon Kuznets'},\n",
              " 'gender': 'male',\n",
              " 'birth': {'date': '1901-04-30',\n",
              "  'place': {'city': {'en': 'Pinsk', 'no': 'Pinsk', 'se': 'Pinsk'},\n",
              "   'country': {'en': 'Russian Empire',\n",
              "    'no': 'Det russiske imperiet',\n",
              "    'se': 'Kejsardömet Ryssland'},\n",
              "   'cityNow': {'en': 'Pinsk', 'no': 'Pinsk', 'se': 'Pinsk'},\n",
              "   'countryNow': {'en': 'Belarus', 'no': 'Hviterussland', 'se': 'Vitryssland'},\n",
              "   'continent': {'en': 'Europe'},\n",
              "   'locationString': {'en': 'Pinsk, Russian Empire (now Belarus)',\n",
              "    'no': 'Pinsk, Det russiske imperiet (nå Hviterussland)',\n",
              "    'se': 'Pinsk, Kejsardömet Ryssland (nu Vitryssland)'}}},\n",
              " 'death': {'date': '1985-07-08',\n",
              "  'place': {'city': {'en': 'Cambridge, MA',\n",
              "    'no': 'Cambridge, MA',\n",
              "    'se': 'Cambridge, MA'},\n",
              "   'country': {'en': 'USA', 'no': 'USA', 'se': 'USA'},\n",
              "   'cityNow': {'en': 'Cambridge, MA',\n",
              "    'no': 'Cambridge, MA',\n",
              "    'se': 'Cambridge, MA'},\n",
              "   'countryNow': {'en': 'USA', 'no': 'USA', 'se': 'USA'},\n",
              "   'continent': {'en': 'North America'},\n",
              "   'locationString': {'en': 'Cambridge, MA, USA',\n",
              "    'no': 'Cambridge, MA, USA',\n",
              "    'se': 'Cambridge, MA, USA'}}},\n",
              " 'links': {'rel': 'laureate',\n",
              "  'href': 'http://masterdataapi.nobelprize.org/2/laureate/680',\n",
              "  'action': 'Get',\n",
              "  'types': 'application/json'},\n",
              " 'nobelPrizes': [{'awardYear': '1971',\n",
              "   'category': {'en': 'Economic Sciences', 'no': 'Økonomi', 'se': 'Ekonomi'},\n",
              "   'categoryFullName': {'en': 'The Sveriges Riksbank Prize in Economic Sciences in Memory of Alfred Nobel',\n",
              "    'no': 'Sveriges Riksbanks pris i økonomisk vitenskap til minne om Alfred Nobel',\n",
              "    'se': 'Sveriges Riksbanks pris i ekonomisk vetenskap till Alfred Nobels minne'},\n",
              "   'sortOrder': '1',\n",
              "   'portion': '1',\n",
              "   'prizeStatus': 'received',\n",
              "   'motivation': {'en': 'for his empirically founded interpretation of economic growth which has led to new and deepened insight into the economic and social structure and process of development',\n",
              "    'se': 'för hans empiriskt baserade tolkning av ekonomisk tillväxt som lett till ny och fördjupad insikt i den ekonomiska och sociala strukturen och utvecklingsprocessen'},\n",
              "   'prizeAmount': 450000,\n",
              "   'prizeAmountAdjusted': 3321850,\n",
              "   'affiliations': [{'name': {'en': 'Harvard University',\n",
              "      'no': 'Harvard University',\n",
              "      'se': 'Harvard University'},\n",
              "     'nameNow': {'en': 'Harvard University'},\n",
              "     'city': {'en': 'Cambridge, MA',\n",
              "      'no': 'Cambridge, MA',\n",
              "      'se': 'Cambridge, MA'},\n",
              "     'country': {'en': 'USA', 'no': 'USA', 'se': 'USA'},\n",
              "     'cityNow': {'en': 'Cambridge, MA',\n",
              "      'no': 'Cambridge, MA',\n",
              "      'se': 'Cambridge, MA'},\n",
              "     'countryNow': {'en': 'USA', 'no': 'USA', 'se': 'USA'},\n",
              "     'locationString': {'en': 'Cambridge, MA, USA',\n",
              "      'no': 'Cambridge, MA, USA',\n",
              "      'se': 'Cambridge, MA, USA'}}],\n",
              "   'links': {'rel': 'nobelPrize',\n",
              "    'href': 'https://masterdataapi.nobelprize.org/2/nobelPrize/eco/1971',\n",
              "    'action': 'Get',\n",
              "    'types': 'application/json'}}]}"
            ]
          },
          "metadata": {},
          "execution_count": 16
        }
      ]
    },
    {
      "cell_type": "code",
      "source": [
        "#EDA... awards\n",
        "_query1 = list(awa.find({}))\n",
        "_query1[169]"
      ],
      "metadata": {
        "colab": {
          "base_uri": "https://localhost:8080/"
        },
        "id": "uwIcF9lI_w1S",
        "outputId": "97be359b-704d-4ba8-db67-f2519e33820b"
      },
      "execution_count": 17,
      "outputs": [
        {
          "output_type": "execute_result",
          "data": {
            "text/plain": [
              "{'_id': ObjectId('6648e8697a6464ba6496c82e'),\n",
              " 'awardYear': '1935',\n",
              " 'category': {'en': 'Chemistry', 'no': 'Kjemi', 'se': 'Kemi'},\n",
              " 'categoryFullName': {'en': 'The Nobel Prize in Chemistry',\n",
              "  'no': 'Nobelprisen i kjemi',\n",
              "  'se': 'Nobelpriset i kemi'},\n",
              " 'prizeAmount': 159917,\n",
              " 'prizeAmountAdjusted': 4997406,\n",
              " 'links': {'rel': 'nobelPrize',\n",
              "  'href': 'http://masterdataapi.nobelprize.org/2/nobelPrize/che/1935',\n",
              "  'action': 'Get',\n",
              "  'types': 'application/json'},\n",
              " 'laureates': [{'id': '193',\n",
              "   'knownName': {'en': 'Frédéric Joliot'},\n",
              "   'portion': '1/2',\n",
              "   'sortOrder': '1',\n",
              "   'motivation': {'en': 'in recognition of their synthesis of new radioactive elements',\n",
              "    'se': 'såsom ett erkännande för deras gemensamt utförda syntes av nya radioaktiva grundämnen'},\n",
              "   'links': {'rel': 'laureate',\n",
              "    'href': 'http://masterdataapi.nobelprize.org/2/laureate/193',\n",
              "    'action': 'Get',\n",
              "    'types': 'application/json'}},\n",
              "  {'id': '194',\n",
              "   'knownName': {'en': 'Irène Joliot-Curie'},\n",
              "   'portion': '1/2',\n",
              "   'sortOrder': '2',\n",
              "   'motivation': {'en': 'in recognition of their synthesis of new radioactive elements',\n",
              "    'se': 'såsom ett erkännande för deras gemensamt utförda syntes av nya radioaktiva grundämnen'},\n",
              "   'links': {'rel': 'laureate',\n",
              "    'href': 'http://masterdataapi.nobelprize.org/2/laureate/194',\n",
              "    'action': 'Get',\n",
              "    'types': 'application/json'}}]}"
            ]
          },
          "metadata": {},
          "execution_count": 17
        }
      ]
    },
    {
      "cell_type": "code",
      "source": [
        "pipeline2 = [\n",
        "    {\"$group\": {\"_id\": \"$gender\", \"count\": {\"$sum\": 1}}}\n",
        "]\n",
        "\n",
        "result2 = list(lau.aggregate(pipeline2))\n",
        "\n",
        "for doc in result2:\n",
        "    print(doc['_id'], doc['count'])"
      ],
      "metadata": {
        "colab": {
          "base_uri": "https://localhost:8080/"
        },
        "collapsed": true,
        "id": "NzQEzimxDNmJ",
        "outputId": "ad1daf52-648e-4e5c-d7b0-64cff2aebf08"
      },
      "execution_count": 18,
      "outputs": [
        {
          "output_type": "stream",
          "name": "stdout",
          "text": [
            "female 106\n",
            "male 1732\n",
            "None 48\n"
          ]
        }
      ]
    },
    {
      "cell_type": "code",
      "source": [
        "# get all the femmes que han ganado en lista\n",
        "\n",
        "query1 = {'gender':'female'}\n",
        "q1 = list(lau.find(query1))\n",
        "len(q1)"
      ],
      "metadata": {
        "colab": {
          "base_uri": "https://localhost:8080/"
        },
        "id": "0YGvWLtGCS2X",
        "outputId": "3a478d0c-1fa6-489b-8d5a-f685e751d32d"
      },
      "execution_count": 19,
      "outputs": [
        {
          "output_type": "execute_result",
          "data": {
            "text/plain": [
              "106"
            ]
          },
          "metadata": {},
          "execution_count": 19
        }
      ]
    },
    {
      "cell_type": "code",
      "source": [
        "#just checking the non binaries...\n",
        "\n",
        "query1b = {'gender':None}\n",
        "q1b = list(lau.find(query1b))\n",
        "q1b[-3]"
      ],
      "metadata": {
        "colab": {
          "base_uri": "https://localhost:8080/"
        },
        "id": "rwHzS5KEDnzx",
        "outputId": "fa1008ef-00be-4416-dbda-03a3c67c657d"
      },
      "execution_count": 20,
      "outputs": [
        {
          "output_type": "execute_result",
          "data": {
            "text/plain": [
              "{'_id': ObjectId('6648f387596428ca293d18fb'),\n",
              " 'id': '748',\n",
              " 'orgName': {'en': 'United Nations',\n",
              "  'no': 'De Forente Nasjoner (FN)',\n",
              "  'se': 'Förenta Nationerna (FN)'},\n",
              " 'nativeName': 'United Nations (U.N.)',\n",
              " 'acronym': 'U.N.',\n",
              " 'founded': {'date': '1945-00-00',\n",
              "  'place': {'city': {'en': 'New York, NY',\n",
              "    'no': 'New York, NY',\n",
              "    'se': 'New York, NY'},\n",
              "   'country': {'en': 'USA', 'no': 'USA', 'se': 'USA'},\n",
              "   'cityNow': {'en': 'New York, NY',\n",
              "    'no': 'New York, NY',\n",
              "    'se': 'New York, NY'},\n",
              "   'countryNow': {'en': 'USA', 'no': 'USA', 'se': 'USA'},\n",
              "   'continent': {'en': 'North America'},\n",
              "   'locationString': {'en': 'New York, NY, USA',\n",
              "    'no': 'New York, NY, USA',\n",
              "    'se': 'New York, NY, USA'}}},\n",
              " 'links': {'rel': 'laureate',\n",
              "  'href': 'http://masterdataapi.nobelprize.org/2/laureate/748',\n",
              "  'action': 'Get',\n",
              "  'types': 'application/json'},\n",
              " 'nobelPrizes': [{'awardYear': '2001',\n",
              "   'category': {'en': 'Peace', 'no': 'Fred', 'se': 'Fred'},\n",
              "   'categoryFullName': {'en': 'The Nobel Peace Prize',\n",
              "    'no': 'Nobels fredspris',\n",
              "    'se': 'Nobels fredspris'},\n",
              "   'sortOrder': '1',\n",
              "   'portion': '1/2',\n",
              "   'dateAwarded': '2001-10-12',\n",
              "   'prizeStatus': 'received',\n",
              "   'motivation': {'en': 'for their work for a better organized and more peaceful world',\n",
              "    'no': 'for deres innsats for en bedre organisert og fredeligere verden'},\n",
              "   'prizeAmount': 10000000,\n",
              "   'prizeAmountAdjusted': 12295082,\n",
              "   'links': {'rel': 'nobelPrize',\n",
              "    'href': 'https://masterdataapi.nobelprize.org/2/nobelPrize/pea/2001',\n",
              "    'action': 'Get',\n",
              "    'types': 'application/json'}}]}"
            ]
          },
          "metadata": {},
          "execution_count": 20
        }
      ]
    },
    {
      "cell_type": "markdown",
      "source": [
        "# 1er Pregunta,  Q % de Premiados son mujeres?"
      ],
      "metadata": {
        "id": "ENe5OSufF-PI"
      }
    },
    {
      "cell_type": "code",
      "source": [
        "p1 = len(q1)/lau.count_documents({})*100\n",
        "\n",
        "print(f'El porcentaje de mujeres que han ganado el nobel es {p1:.2f}%')"
      ],
      "metadata": {
        "colab": {
          "base_uri": "https://localhost:8080/"
        },
        "id": "upxDev7gFfsi",
        "outputId": "2dbaf90e-358e-427f-e013-c81c599998e4"
      },
      "execution_count": 21,
      "outputs": [
        {
          "output_type": "stream",
          "name": "stdout",
          "text": [
            "El porcentaje de mujeres que han ganado el nobel es 5.62%\n"
          ]
        }
      ]
    },
    {
      "cell_type": "markdown",
      "source": [
        "# 2nda, Listado de paises con menos premios Nobel"
      ],
      "metadata": {
        "id": "jwF2682ZHh6C"
      }
    },
    {
      "cell_type": "code",
      "source": [
        "pipeline = [\n",
        "    {\"$group\": {\"_id\": \"$birth.place.countryNow.en\", \"count\": {\"$sum\": 1}}}\n",
        "]\n",
        "\n",
        "result = list(lau.aggregate(pipeline))"
      ],
      "metadata": {
        "id": "Qu8M7xLqHpUR"
      },
      "execution_count": 22,
      "outputs": []
    },
    {
      "cell_type": "code",
      "source": [
        "result"
      ],
      "metadata": {
        "colab": {
          "base_uri": "https://localhost:8080/"
        },
        "id": "2fwgbKoEi0fC",
        "outputId": "b994077e-f232-4185-f03a-4b102f07fc6b"
      },
      "execution_count": 23,
      "outputs": [
        {
          "output_type": "execute_result",
          "data": {
            "text/plain": [
              "[{'_id': 'Zimbabwe', 'count': 2},\n",
              " {'_id': 'Latvia', 'count': 2},\n",
              " {'_id': 'Slovenia', 'count': 2},\n",
              " {'_id': 'South Korea', 'count': 4},\n",
              " {'_id': 'Guatemala', 'count': 4},\n",
              " {'_id': 'Azerbaijan', 'count': 2},\n",
              " {'_id': 'Indonesia', 'count': 2},\n",
              " {'_id': 'New Zealand', 'count': 6},\n",
              " {'_id': 'Japan', 'count': 54},\n",
              " {'_id': 'Trinidad and Tobago', 'count': 2},\n",
              " {'_id': 'Bosnia and Herzegovina', 'count': 4},\n",
              " {'_id': 'United Kingdom', 'count': 172},\n",
              " {'_id': 'Egypt', 'count': 12},\n",
              " {'_id': 'Czech Republic', 'count': 12},\n",
              " {'_id': 'China', 'count': 24},\n",
              " {'_id': 'Brazil', 'count': 2},\n",
              " {'_id': 'Yemen', 'count': 2},\n",
              " {'_id': 'Saint Lucia', 'count': 4},\n",
              " {'_id': 'Sweden', 'count': 58},\n",
              " {'_id': 'Italy', 'count': 38},\n",
              " {'_id': 'Scotland', 'count': 22},\n",
              " {'_id': 'Finland', 'count': 10},\n",
              " {'_id': 'Venezuela', 'count': 2},\n",
              " {'_id': 'Costa Rica', 'count': 2},\n",
              " {'_id': 'Slovakia', 'count': 2},\n",
              " {'_id': 'Morocco', 'count': 2},\n",
              " {'_id': 'Australia', 'count': 20},\n",
              " {'_id': 'Lithuania', 'count': 6},\n",
              " {'_id': 'Algeria', 'count': 4},\n",
              " {'_id': 'Israel', 'count': 12},\n",
              " {'_id': 'Cyprus', 'count': 2},\n",
              " {'_id': 'Croatia', 'count': 2},\n",
              " {'_id': 'Guadeloupe Island', 'count': 2},\n",
              " {'_id': 'Hungary', 'count': 18},\n",
              " {'_id': 'Poland', 'count': 54},\n",
              " {'_id': 'Bulgaria', 'count': 2},\n",
              " {'_id': 'South Africa', 'count': 18},\n",
              " {'_id': 'Belgium', 'count': 18},\n",
              " {'_id': None, 'count': 48},\n",
              " {'_id': 'Iceland', 'count': 2},\n",
              " {'_id': 'Myanmar', 'count': 2},\n",
              " {'_id': 'India', 'count': 18},\n",
              " {'_id': 'Vietnam', 'count': 2},\n",
              " {'_id': 'Argentina', 'count': 8},\n",
              " {'_id': 'Russia', 'count': 52},\n",
              " {'_id': 'Kenya', 'count': 2},\n",
              " {'_id': 'Madagascar', 'count': 2},\n",
              " {'_id': 'Ghana', 'count': 2},\n",
              " {'_id': 'Northern Ireland', 'count': 10},\n",
              " {'_id': 'Iraq', 'count': 2},\n",
              " {'_id': 'Iran', 'count': 4},\n",
              " {'_id': 'Belarus', 'count': 8},\n",
              " {'_id': 'Luxembourg', 'count': 4},\n",
              " {'_id': 'Faroe Islands (Denmark)', 'count': 2},\n",
              " {'_id': 'Ireland', 'count': 10},\n",
              " {'_id': 'Norway', 'count': 24},\n",
              " {'_id': 'the Netherlands', 'count': 36},\n",
              " {'_id': 'Denmark', 'count': 22},\n",
              " {'_id': 'Nigeria', 'count': 2},\n",
              " {'_id': 'Democratic Republic of the Congo', 'count': 2},\n",
              " {'_id': 'Turkey', 'count': 6},\n",
              " {'_id': 'USA', 'count': 544},\n",
              " {'_id': 'Pakistan', 'count': 6},\n",
              " {'_id': 'Germany', 'count': 164},\n",
              " {'_id': 'Colombia', 'count': 4},\n",
              " {'_id': 'Switzerland', 'count': 38},\n",
              " {'_id': 'East Timor', 'count': 4},\n",
              " {'_id': 'Portugal', 'count': 4},\n",
              " {'_id': 'Taiwan', 'count': 2},\n",
              " {'_id': 'France', 'count': 112},\n",
              " {'_id': 'Romania', 'count': 8},\n",
              " {'_id': 'North Macedonia', 'count': 2},\n",
              " {'_id': 'Ukraine', 'count': 10},\n",
              " {'_id': 'Chile', 'count': 4},\n",
              " {'_id': 'Ethiopia', 'count': 2},\n",
              " {'_id': 'Spain', 'count': 14},\n",
              " {'_id': 'Bangladesh', 'count': 2},\n",
              " {'_id': 'Austria', 'count': 36},\n",
              " {'_id': 'Canada', 'count': 40},\n",
              " {'_id': 'Mexico', 'count': 6},\n",
              " {'_id': 'Liberia', 'count': 4},\n",
              " {'_id': 'Greece', 'count': 2},\n",
              " {'_id': 'Peru', 'count': 2}]"
            ]
          },
          "metadata": {},
          "execution_count": 23
        }
      ]
    },
    {
      "cell_type": "code",
      "source": [
        "import pandas as pd\n",
        "countries = pd.DataFrame(result)\n",
        "\n",
        "countries = countries.sort_values(by='count')\n",
        "\n",
        "listado_bottom10 = countries.head(10)['_id'].unique()\n",
        "countries.head(10)"
      ],
      "metadata": {
        "colab": {
          "base_uri": "https://localhost:8080/",
          "height": 363
        },
        "id": "guGJ9LR7OPnX",
        "outputId": "41eda070-25da-4532-a184-440c2333845c"
      },
      "execution_count": 24,
      "outputs": [
        {
          "output_type": "execute_result",
          "data": {
            "text/plain": [
              "                  _id  count\n",
              "0            Zimbabwe      2\n",
              "25            Morocco      2\n",
              "30             Cyprus      2\n",
              "31            Croatia      2\n",
              "32  Guadeloupe Island      2\n",
              "35           Bulgaria      2\n",
              "39            Iceland      2\n",
              "40            Myanmar      2\n",
              "81             Greece      2\n",
              "42            Vietnam      2"
            ],
            "text/html": [
              "\n",
              "  <div id=\"df-81062220-483d-45e7-b466-8f96926d4522\" class=\"colab-df-container\">\n",
              "    <div>\n",
              "<style scoped>\n",
              "    .dataframe tbody tr th:only-of-type {\n",
              "        vertical-align: middle;\n",
              "    }\n",
              "\n",
              "    .dataframe tbody tr th {\n",
              "        vertical-align: top;\n",
              "    }\n",
              "\n",
              "    .dataframe thead th {\n",
              "        text-align: right;\n",
              "    }\n",
              "</style>\n",
              "<table border=\"1\" class=\"dataframe\">\n",
              "  <thead>\n",
              "    <tr style=\"text-align: right;\">\n",
              "      <th></th>\n",
              "      <th>_id</th>\n",
              "      <th>count</th>\n",
              "    </tr>\n",
              "  </thead>\n",
              "  <tbody>\n",
              "    <tr>\n",
              "      <th>0</th>\n",
              "      <td>Zimbabwe</td>\n",
              "      <td>2</td>\n",
              "    </tr>\n",
              "    <tr>\n",
              "      <th>25</th>\n",
              "      <td>Morocco</td>\n",
              "      <td>2</td>\n",
              "    </tr>\n",
              "    <tr>\n",
              "      <th>30</th>\n",
              "      <td>Cyprus</td>\n",
              "      <td>2</td>\n",
              "    </tr>\n",
              "    <tr>\n",
              "      <th>31</th>\n",
              "      <td>Croatia</td>\n",
              "      <td>2</td>\n",
              "    </tr>\n",
              "    <tr>\n",
              "      <th>32</th>\n",
              "      <td>Guadeloupe Island</td>\n",
              "      <td>2</td>\n",
              "    </tr>\n",
              "    <tr>\n",
              "      <th>35</th>\n",
              "      <td>Bulgaria</td>\n",
              "      <td>2</td>\n",
              "    </tr>\n",
              "    <tr>\n",
              "      <th>39</th>\n",
              "      <td>Iceland</td>\n",
              "      <td>2</td>\n",
              "    </tr>\n",
              "    <tr>\n",
              "      <th>40</th>\n",
              "      <td>Myanmar</td>\n",
              "      <td>2</td>\n",
              "    </tr>\n",
              "    <tr>\n",
              "      <th>81</th>\n",
              "      <td>Greece</td>\n",
              "      <td>2</td>\n",
              "    </tr>\n",
              "    <tr>\n",
              "      <th>42</th>\n",
              "      <td>Vietnam</td>\n",
              "      <td>2</td>\n",
              "    </tr>\n",
              "  </tbody>\n",
              "</table>\n",
              "</div>\n",
              "    <div class=\"colab-df-buttons\">\n",
              "\n",
              "  <div class=\"colab-df-container\">\n",
              "    <button class=\"colab-df-convert\" onclick=\"convertToInteractive('df-81062220-483d-45e7-b466-8f96926d4522')\"\n",
              "            title=\"Convert this dataframe to an interactive table.\"\n",
              "            style=\"display:none;\">\n",
              "\n",
              "  <svg xmlns=\"http://www.w3.org/2000/svg\" height=\"24px\" viewBox=\"0 -960 960 960\">\n",
              "    <path d=\"M120-120v-720h720v720H120Zm60-500h600v-160H180v160Zm220 220h160v-160H400v160Zm0 220h160v-160H400v160ZM180-400h160v-160H180v160Zm440 0h160v-160H620v160ZM180-180h160v-160H180v160Zm440 0h160v-160H620v160Z\"/>\n",
              "  </svg>\n",
              "    </button>\n",
              "\n",
              "  <style>\n",
              "    .colab-df-container {\n",
              "      display:flex;\n",
              "      gap: 12px;\n",
              "    }\n",
              "\n",
              "    .colab-df-convert {\n",
              "      background-color: #E8F0FE;\n",
              "      border: none;\n",
              "      border-radius: 50%;\n",
              "      cursor: pointer;\n",
              "      display: none;\n",
              "      fill: #1967D2;\n",
              "      height: 32px;\n",
              "      padding: 0 0 0 0;\n",
              "      width: 32px;\n",
              "    }\n",
              "\n",
              "    .colab-df-convert:hover {\n",
              "      background-color: #E2EBFA;\n",
              "      box-shadow: 0px 1px 2px rgba(60, 64, 67, 0.3), 0px 1px 3px 1px rgba(60, 64, 67, 0.15);\n",
              "      fill: #174EA6;\n",
              "    }\n",
              "\n",
              "    .colab-df-buttons div {\n",
              "      margin-bottom: 4px;\n",
              "    }\n",
              "\n",
              "    [theme=dark] .colab-df-convert {\n",
              "      background-color: #3B4455;\n",
              "      fill: #D2E3FC;\n",
              "    }\n",
              "\n",
              "    [theme=dark] .colab-df-convert:hover {\n",
              "      background-color: #434B5C;\n",
              "      box-shadow: 0px 1px 3px 1px rgba(0, 0, 0, 0.15);\n",
              "      filter: drop-shadow(0px 1px 2px rgba(0, 0, 0, 0.3));\n",
              "      fill: #FFFFFF;\n",
              "    }\n",
              "  </style>\n",
              "\n",
              "    <script>\n",
              "      const buttonEl =\n",
              "        document.querySelector('#df-81062220-483d-45e7-b466-8f96926d4522 button.colab-df-convert');\n",
              "      buttonEl.style.display =\n",
              "        google.colab.kernel.accessAllowed ? 'block' : 'none';\n",
              "\n",
              "      async function convertToInteractive(key) {\n",
              "        const element = document.querySelector('#df-81062220-483d-45e7-b466-8f96926d4522');\n",
              "        const dataTable =\n",
              "          await google.colab.kernel.invokeFunction('convertToInteractive',\n",
              "                                                    [key], {});\n",
              "        if (!dataTable) return;\n",
              "\n",
              "        const docLinkHtml = 'Like what you see? Visit the ' +\n",
              "          '<a target=\"_blank\" href=https://colab.research.google.com/notebooks/data_table.ipynb>data table notebook</a>'\n",
              "          + ' to learn more about interactive tables.';\n",
              "        element.innerHTML = '';\n",
              "        dataTable['output_type'] = 'display_data';\n",
              "        await google.colab.output.renderOutput(dataTable, element);\n",
              "        const docLink = document.createElement('div');\n",
              "        docLink.innerHTML = docLinkHtml;\n",
              "        element.appendChild(docLink);\n",
              "      }\n",
              "    </script>\n",
              "  </div>\n",
              "\n",
              "\n",
              "<div id=\"df-f2f3779e-ff2a-45e1-bf91-ef43c4150d25\">\n",
              "  <button class=\"colab-df-quickchart\" onclick=\"quickchart('df-f2f3779e-ff2a-45e1-bf91-ef43c4150d25')\"\n",
              "            title=\"Suggest charts\"\n",
              "            style=\"display:none;\">\n",
              "\n",
              "<svg xmlns=\"http://www.w3.org/2000/svg\" height=\"24px\"viewBox=\"0 0 24 24\"\n",
              "     width=\"24px\">\n",
              "    <g>\n",
              "        <path d=\"M19 3H5c-1.1 0-2 .9-2 2v14c0 1.1.9 2 2 2h14c1.1 0 2-.9 2-2V5c0-1.1-.9-2-2-2zM9 17H7v-7h2v7zm4 0h-2V7h2v10zm4 0h-2v-4h2v4z\"/>\n",
              "    </g>\n",
              "</svg>\n",
              "  </button>\n",
              "\n",
              "<style>\n",
              "  .colab-df-quickchart {\n",
              "      --bg-color: #E8F0FE;\n",
              "      --fill-color: #1967D2;\n",
              "      --hover-bg-color: #E2EBFA;\n",
              "      --hover-fill-color: #174EA6;\n",
              "      --disabled-fill-color: #AAA;\n",
              "      --disabled-bg-color: #DDD;\n",
              "  }\n",
              "\n",
              "  [theme=dark] .colab-df-quickchart {\n",
              "      --bg-color: #3B4455;\n",
              "      --fill-color: #D2E3FC;\n",
              "      --hover-bg-color: #434B5C;\n",
              "      --hover-fill-color: #FFFFFF;\n",
              "      --disabled-bg-color: #3B4455;\n",
              "      --disabled-fill-color: #666;\n",
              "  }\n",
              "\n",
              "  .colab-df-quickchart {\n",
              "    background-color: var(--bg-color);\n",
              "    border: none;\n",
              "    border-radius: 50%;\n",
              "    cursor: pointer;\n",
              "    display: none;\n",
              "    fill: var(--fill-color);\n",
              "    height: 32px;\n",
              "    padding: 0;\n",
              "    width: 32px;\n",
              "  }\n",
              "\n",
              "  .colab-df-quickchart:hover {\n",
              "    background-color: var(--hover-bg-color);\n",
              "    box-shadow: 0 1px 2px rgba(60, 64, 67, 0.3), 0 1px 3px 1px rgba(60, 64, 67, 0.15);\n",
              "    fill: var(--button-hover-fill-color);\n",
              "  }\n",
              "\n",
              "  .colab-df-quickchart-complete:disabled,\n",
              "  .colab-df-quickchart-complete:disabled:hover {\n",
              "    background-color: var(--disabled-bg-color);\n",
              "    fill: var(--disabled-fill-color);\n",
              "    box-shadow: none;\n",
              "  }\n",
              "\n",
              "  .colab-df-spinner {\n",
              "    border: 2px solid var(--fill-color);\n",
              "    border-color: transparent;\n",
              "    border-bottom-color: var(--fill-color);\n",
              "    animation:\n",
              "      spin 1s steps(1) infinite;\n",
              "  }\n",
              "\n",
              "  @keyframes spin {\n",
              "    0% {\n",
              "      border-color: transparent;\n",
              "      border-bottom-color: var(--fill-color);\n",
              "      border-left-color: var(--fill-color);\n",
              "    }\n",
              "    20% {\n",
              "      border-color: transparent;\n",
              "      border-left-color: var(--fill-color);\n",
              "      border-top-color: var(--fill-color);\n",
              "    }\n",
              "    30% {\n",
              "      border-color: transparent;\n",
              "      border-left-color: var(--fill-color);\n",
              "      border-top-color: var(--fill-color);\n",
              "      border-right-color: var(--fill-color);\n",
              "    }\n",
              "    40% {\n",
              "      border-color: transparent;\n",
              "      border-right-color: var(--fill-color);\n",
              "      border-top-color: var(--fill-color);\n",
              "    }\n",
              "    60% {\n",
              "      border-color: transparent;\n",
              "      border-right-color: var(--fill-color);\n",
              "    }\n",
              "    80% {\n",
              "      border-color: transparent;\n",
              "      border-right-color: var(--fill-color);\n",
              "      border-bottom-color: var(--fill-color);\n",
              "    }\n",
              "    90% {\n",
              "      border-color: transparent;\n",
              "      border-bottom-color: var(--fill-color);\n",
              "    }\n",
              "  }\n",
              "</style>\n",
              "\n",
              "  <script>\n",
              "    async function quickchart(key) {\n",
              "      const quickchartButtonEl =\n",
              "        document.querySelector('#' + key + ' button');\n",
              "      quickchartButtonEl.disabled = true;  // To prevent multiple clicks.\n",
              "      quickchartButtonEl.classList.add('colab-df-spinner');\n",
              "      try {\n",
              "        const charts = await google.colab.kernel.invokeFunction(\n",
              "            'suggestCharts', [key], {});\n",
              "      } catch (error) {\n",
              "        console.error('Error during call to suggestCharts:', error);\n",
              "      }\n",
              "      quickchartButtonEl.classList.remove('colab-df-spinner');\n",
              "      quickchartButtonEl.classList.add('colab-df-quickchart-complete');\n",
              "    }\n",
              "    (() => {\n",
              "      let quickchartButtonEl =\n",
              "        document.querySelector('#df-f2f3779e-ff2a-45e1-bf91-ef43c4150d25 button');\n",
              "      quickchartButtonEl.style.display =\n",
              "        google.colab.kernel.accessAllowed ? 'block' : 'none';\n",
              "    })();\n",
              "  </script>\n",
              "</div>\n",
              "\n",
              "    </div>\n",
              "  </div>\n"
            ],
            "application/vnd.google.colaboratory.intrinsic+json": {
              "type": "dataframe",
              "variable_name": "countries",
              "summary": "{\n  \"name\": \"countries\",\n  \"rows\": 83,\n  \"fields\": [\n    {\n      \"column\": \"_id\",\n      \"properties\": {\n        \"dtype\": \"string\",\n        \"num_unique_values\": 82,\n        \"samples\": [\n          \"Brazil\",\n          \"Zimbabwe\",\n          \"Costa Rica\"\n        ],\n        \"semantic_type\": \"\",\n        \"description\": \"\"\n      }\n    },\n    {\n      \"column\": \"count\",\n      \"properties\": {\n        \"dtype\": \"number\",\n        \"std\": 65,\n        \"min\": 2,\n        \"max\": 544,\n        \"num_unique_values\": 22,\n        \"samples\": [\n          2,\n          40,\n          20\n        ],\n        \"semantic_type\": \"\",\n        \"description\": \"\"\n      }\n    }\n  ]\n}"
            }
          },
          "metadata": {},
          "execution_count": 24
        }
      ]
    },
    {
      "cell_type": "code",
      "source": [
        "countries.plot(x='_id', y='count', kind='bar', title='yup its skewed')"
      ],
      "metadata": {
        "colab": {
          "base_uri": "https://localhost:8080/",
          "height": 714
        },
        "id": "JkTTetxNPes-",
        "outputId": "d52ddfeb-5f5f-4a93-9674-75d501b59609"
      },
      "execution_count": 25,
      "outputs": [
        {
          "output_type": "execute_result",
          "data": {
            "text/plain": [
              "<Axes: title={'center': 'yup its skewed'}, xlabel='_id'>"
            ]
          },
          "metadata": {},
          "execution_count": 25
        },
        {
          "output_type": "display_data",
          "data": {
            "text/plain": [
              "<Figure size 640x480 with 1 Axes>"
            ],
            "image/png": "[encoded data removed]"
          },
          "metadata": {}
        }
      ]
    },
    {
      "cell_type": "code",
      "source": [
        "listado_b10_2 = countries[countries['count']==countries['count'].min()]['_id'].unique()\n",
        "listado_b10_2"
      ],
      "metadata": {
        "colab": {
          "base_uri": "https://localhost:8080/"
        },
        "id": "QfuqX6wsP8Ew",
        "outputId": "68b3a3e7-79b6-4e70-9410-1c2651a80be6"
      },
      "execution_count": 26,
      "outputs": [
        {
          "output_type": "execute_result",
          "data": {
            "text/plain": [
              "array(['Zimbabwe', 'Morocco', 'Cyprus', 'Croatia', 'Guadeloupe Island',\n",
              "       'Bulgaria', 'Iceland', 'Myanmar', 'Greece', 'Vietnam', 'Slovakia',\n",
              "       'Kenya', 'Ghana', 'Iraq', 'Faroe Islands (Denmark)', 'Nigeria',\n",
              "       'Democratic Republic of the Congo', 'Taiwan', 'North Macedonia',\n",
              "       'Ethiopia', 'Bangladesh', 'Madagascar', 'Costa Rica', 'Peru',\n",
              "       'Venezuela', 'Indonesia', 'Trinidad and Tobago', 'Latvia',\n",
              "       'Slovenia', 'Azerbaijan', 'Brazil', 'Yemen'], dtype=object)"
            ]
          },
          "metadata": {},
          "execution_count": 26
        }
      ]
    },
    {
      "cell_type": "code",
      "source": [
        "#pero piden bottom 10\n",
        "listado_bottom10"
      ],
      "metadata": {
        "colab": {
          "base_uri": "https://localhost:8080/"
        },
        "id": "M5EvAJnZjW3w",
        "outputId": "b5543f58-bdd5-4d93-994f-ef0f5c205ec8"
      },
      "execution_count": 27,
      "outputs": [
        {
          "output_type": "execute_result",
          "data": {
            "text/plain": [
              "array(['Zimbabwe', 'Morocco', 'Cyprus', 'Croatia', 'Guadeloupe Island',\n",
              "       'Bulgaria', 'Iceland', 'Myanmar', 'Greece', 'Vietnam'],\n",
              "      dtype=object)"
            ]
          },
          "metadata": {},
          "execution_count": 27
        }
      ]
    },
    {
      "cell_type": "code",
      "source": [
        "p2 = len(listado_bottom10)/len(countries[countries['_id'].notnull()]['_id'].unique())*100\n",
        "\n",
        "print(f'El % de paises que han ganado la minimima cantidad de nobels de los paises premiados es {p2:.2f}%')"
      ],
      "metadata": {
        "colab": {
          "base_uri": "https://localhost:8080/"
        },
        "id": "2SCaRyzPS1x3",
        "outputId": "acab8478-b634-4b32-a616-ff5c8c09d66b"
      },
      "execution_count": 28,
      "outputs": [
        {
          "output_type": "stream",
          "name": "stdout",
          "text": [
            "El % de paises que han ganado la minimima cantidad de nobels de los paises premiados es 12.20%\n"
          ]
        }
      ]
    },
    {
      "cell_type": "markdown",
      "source": [
        "# 3er Query, Listado de Categorias con menor representacion de mujeres"
      ],
      "metadata": {
        "id": "1JWNXPaxU1Nl"
      }
    },
    {
      "cell_type": "code",
      "source": [
        "pipeline3 = [\n",
        "    {\"$match\": {\"gender\": \"female\"}},\n",
        "    {\"$group\": {\"_id\": \"$nobelPrizes.category.en\", \"count\": {\"$sum\": 1}}},\n",
        "    {\"$sort\": {\"count\": 1}},\n",
        "]\n",
        "\n",
        "result3 = list(lau.aggregate(pipeline3))\n",
        "\"\"\"\n",
        "nobelPrizes': [{'awardYear': '1998',\n",
        "   'category': {'en': 'Physics'\n",
        "   \"\"\"\n",
        "\n",
        "for doc in result3:\n",
        "    print(doc['_id'], doc['count'])"
      ],
      "metadata": {
        "colab": {
          "base_uri": "https://localhost:8080/"
        },
        "id": "YDr9GdgGU05Q",
        "outputId": "43f11e41-fe3f-458b-d074-6f8e5538c6f6"
      },
      "execution_count": 29,
      "outputs": [
        {
          "output_type": "stream",
          "name": "stdout",
          "text": [
            "['Physics', 'Chemistry'] 2\n",
            "['Physics'] 4\n",
            "['Economic Sciences'] 4\n",
            "['Chemistry'] 8\n",
            "['Physiology or Medicine'] 24\n",
            "['Literature'] 30\n",
            "['Peace'] 34\n"
          ]
        }
      ]
    },
    {
      "cell_type": "code",
      "source": [
        "pipeline3b = [\n",
        "    {\"$group\": {\"_id\": \"$nobelPrizes.category.en\", \"count\": {\"$sum\": 1}}},\n",
        "]\n",
        "\n",
        "result3b = list(lau.aggregate(pipeline3b))\n",
        "\"\"\"\n",
        "nobelPrizes': [{'awardYear': '1998',\n",
        "   'category': {'en': 'Physics'\n",
        "   \"\"\"\n",
        "\n",
        "for doc in result3b:\n",
        "    print(doc['_id'], doc['count'])"
      ],
      "metadata": {
        "colab": {
          "base_uri": "https://localhost:8080/"
        },
        "id": "AH5YZzSnk2sD",
        "outputId": "bc952759-7106-466c-8ed9-8506c2befd68"
      },
      "execution_count": 30,
      "outputs": [
        {
          "output_type": "stream",
          "name": "stdout",
          "text": [
            "['Physiology or Medicine'] 438\n",
            "['Physics'] 420\n",
            "['Literature'] 232\n",
            "['Physics', 'Chemistry'] 2\n",
            "['Peace', 'Peace'] 2\n",
            "['Economic Sciences'] 168\n",
            "['Physics', 'Physics'] 2\n",
            "['Chemistry', 'Chemistry'] 2\n",
            "['Peace', 'Chemistry'] 2\n",
            "['Peace', 'Peace', 'Peace'] 2\n",
            "['Chemistry'] 360\n",
            "['Peace'] 256\n"
          ]
        }
      ]
    },
    {
      "cell_type": "code",
      "source": [
        "pipeline3c = [\n",
        "    {\"$match\": {\"nobelPrizes.category.en\": {\"$all\": [\"Peace\", \"Chemistry\"]}}},\n",
        "    {\"$limit\": 1}\n",
        "]\n",
        "\n",
        "result3c = list(lau.aggregate(pipeline3c))\n",
        "result3c"
      ],
      "metadata": {
        "colab": {
          "base_uri": "https://localhost:8080/"
        },
        "id": "MtuAU8xulcKQ",
        "outputId": "582f074a-f07a-44a1-d7a0-12b832bf2267",
        "collapsed": true
      },
      "execution_count": 31,
      "outputs": [
        {
          "output_type": "execute_result",
          "data": {
            "text/plain": [
              "[{'_id': ObjectId('6648e86806e1424a4696d9a0'),\n",
              "  'id': '217',\n",
              "  'knownName': {'en': 'Linus Pauling', 'se': 'Linus Pauling'},\n",
              "  'givenName': {'en': 'Linus', 'se': 'Linus'},\n",
              "  'familyName': {'en': 'Pauling', 'se': 'Pauling'},\n",
              "  'fullName': {'en': 'Linus Carl Pauling', 'se': 'Linus Carl Pauling'},\n",
              "  'gender': 'male',\n",
              "  'birth': {'date': '1901-02-28',\n",
              "   'place': {'city': {'en': 'Portland, OR',\n",
              "     'no': 'Portland, OR',\n",
              "     'se': 'Portland, OR'},\n",
              "    'country': {'en': 'USA', 'no': 'USA', 'se': 'USA'},\n",
              "    'cityNow': {'en': 'Portland, OR',\n",
              "     'no': 'Portland, OR',\n",
              "     'se': 'Portland, OR'},\n",
              "    'countryNow': {'en': 'USA', 'no': 'USA', 'se': 'USA'},\n",
              "    'continent': {'en': 'North America'},\n",
              "    'locationString': {'en': 'Portland, OR, USA',\n",
              "     'no': 'Portland, OR, USA',\n",
              "     'se': 'Portland, OR, USA'}}},\n",
              "  'death': {'date': '1994-08-19',\n",
              "   'place': {'city': {'en': 'Big Sur, CA',\n",
              "     'no': 'Big Sur, CA',\n",
              "     'se': 'Big Sur, CA'},\n",
              "    'country': {'en': 'USA', 'no': 'USA', 'se': 'USA'},\n",
              "    'cityNow': {'en': 'Big Sur, CA', 'no': 'Big Sur, CA', 'se': 'Big Sur, CA'},\n",
              "    'countryNow': {'en': 'USA', 'no': 'USA', 'se': 'USA'},\n",
              "    'continent': {'en': 'North America'},\n",
              "    'locationString': {'en': 'Big Sur, CA, USA',\n",
              "     'no': 'Big Sur, CA, USA',\n",
              "     'se': 'Big Sur, CA, USA'}}},\n",
              "  'links': {'rel': 'laureate',\n",
              "   'href': 'http://masterdataapi.nobelprize.org/2/laureate/217',\n",
              "   'action': 'Get',\n",
              "   'types': 'application/json'},\n",
              "  'nobelPrizes': [{'awardYear': '1962',\n",
              "    'category': {'en': 'Peace', 'no': 'Fred', 'se': 'Fred'},\n",
              "    'categoryFullName': {'en': 'The Nobel Peace Prize',\n",
              "     'no': 'Nobels fredspris',\n",
              "     'se': 'Nobels fredspris'},\n",
              "    'sortOrder': '1',\n",
              "    'portion': '1',\n",
              "    'dateAwarded': '1963-10-10',\n",
              "    'prizeStatus': 'received',\n",
              "    'motivation': {'en': 'for his fight against the nuclear arms race between East and West',\n",
              "     'no': 'for sin kamp mot atomvåpenkappløpet mellom Øst og Vest'},\n",
              "    'prizeAmount': 257220,\n",
              "    'prizeAmountAdjusted': 2836985,\n",
              "    'affiliations': [{'name': {'en': 'California Institute of Technology (Caltech)',\n",
              "       'no': 'California Institute of Technology (Caltech)',\n",
              "       'se': 'California Institute of Technology (Caltech)'},\n",
              "      'nameNow': {'en': 'California Institute of Technology (Caltech)'},\n",
              "      'city': {'en': 'Pasadena, CA',\n",
              "       'no': 'Pasadena, CA',\n",
              "       'se': 'Pasadena, CA'},\n",
              "      'country': {'en': 'USA', 'no': 'USA', 'se': 'USA'},\n",
              "      'cityNow': {'en': 'Pasadena, CA',\n",
              "       'no': 'Pasadena, CA',\n",
              "       'se': 'Pasadena, CA'},\n",
              "      'countryNow': {'en': 'USA', 'no': 'USA', 'se': 'USA'},\n",
              "      'locationString': {'en': 'Pasadena, CA, USA',\n",
              "       'no': 'Pasadena, CA, USA',\n",
              "       'se': 'Pasadena, CA, USA'}}],\n",
              "    'links': {'rel': 'nobelPrize',\n",
              "     'href': 'https://masterdataapi.nobelprize.org/2/nobelPrize/pea/1962',\n",
              "     'action': 'Get',\n",
              "     'types': 'application/json'}},\n",
              "   {'awardYear': '1954',\n",
              "    'category': {'en': 'Chemistry', 'no': 'Kjemi', 'se': 'Kemi'},\n",
              "    'categoryFullName': {'en': 'The Nobel Prize in Chemistry',\n",
              "     'no': 'Nobelprisen i kjemi',\n",
              "     'se': 'Nobelpriset i kemi'},\n",
              "    'sortOrder': '1',\n",
              "    'portion': '1',\n",
              "    'prizeStatus': 'received',\n",
              "    'motivation': {'en': 'for his research into the nature of the chemical bond and its application to the elucidation of the structure of complex substances',\n",
              "     'se': 'för hans arbeten över den kemiska bindningens natur med tillämpning på komplicerade ämnens byggnad'},\n",
              "    'prizeAmount': 181647,\n",
              "    'prizeAmountAdjusted': 2640218,\n",
              "    'affiliations': [{'name': {'en': 'California Institute of Technology (Caltech)',\n",
              "       'no': 'California Institute of Technology (Caltech)',\n",
              "       'se': 'California Institute of Technology (Caltech)'},\n",
              "      'nameNow': {'en': 'California Institute of Technology (Caltech)'},\n",
              "      'city': {'en': 'Pasadena, CA',\n",
              "       'no': 'Pasadena, CA',\n",
              "       'se': 'Pasadena, CA'},\n",
              "      'country': {'en': 'USA', 'no': 'USA', 'se': 'USA'},\n",
              "      'cityNow': {'en': 'Pasadena, CA',\n",
              "       'no': 'Pasadena, CA',\n",
              "       'se': 'Pasadena, CA'},\n",
              "      'countryNow': {'en': 'USA', 'no': 'USA', 'se': 'USA'},\n",
              "      'locationString': {'en': 'Pasadena, CA, USA',\n",
              "       'no': 'Pasadena, CA, USA',\n",
              "       'se': 'Pasadena, CA, USA'}}],\n",
              "    'links': {'rel': 'nobelPrize',\n",
              "     'href': 'https://masterdataapi.nobelprize.org/2/nobelPrize/che/1954',\n",
              "     'action': 'Get',\n",
              "     'types': 'application/json'}}]}]"
            ]
          },
          "metadata": {},
          "execution_count": 31
        }
      ]
    },
    {
      "cell_type": "markdown",
      "source": [
        "#### Damn, hasta hay quienes han ganado multiples veces"
      ],
      "metadata": {
        "id": "v0ir2ojV1bD9"
      }
    },
    {
      "cell_type": "code",
      "source": [
        "# a ver este?\n",
        "pipeline3c = [\n",
        "    {\"$match\": {\"nobelPrizes.category.en\": {\"$all\": [\"Physics\",  \"Chemistry\"]}}},\n",
        "    {\"$limit\": 1}\n",
        "]\n",
        "\n",
        "result3c = list(lau.aggregate(pipeline3c))\n",
        "result3c\n",
        "\n",
        "#marie curie"
      ],
      "metadata": {
        "id": "CVXbGFJD1pad",
        "colab": {
          "base_uri": "https://localhost:8080/"
        },
        "collapsed": true,
        "outputId": "eb62bc6d-ad64-4fd8-a3d0-853f016669f3"
      },
      "execution_count": 32,
      "outputs": [
        {
          "output_type": "execute_result",
          "data": {
            "text/plain": [
              "[{'_id': ObjectId('6648e86806e1424a4696d9b6'),\n",
              "  'id': '6',\n",
              "  'knownName': {'en': 'Marie Curie', 'se': 'Marie Curie'},\n",
              "  'givenName': {'en': 'Marie', 'se': 'Marie'},\n",
              "  'familyName': {'en': 'Curie', 'se': 'Curie'},\n",
              "  'fullName': {'en': 'Marie Curie, née Sklodowska',\n",
              "   'se': 'Marie Curie, née Sklodowska'},\n",
              "  'gender': 'female',\n",
              "  'birth': {'date': '1867-11-07',\n",
              "   'place': {'city': {'en': 'Warsaw', 'no': 'Warszawa', 'se': 'Warszawa '},\n",
              "    'country': {'en': 'Russian Empire',\n",
              "     'no': 'Det russiske imperiet',\n",
              "     'se': 'Kejsardömet Ryssland'},\n",
              "    'cityNow': {'en': 'Warsaw', 'no': 'Warszawa', 'se': 'Warszawa '},\n",
              "    'countryNow': {'en': 'Poland', 'no': 'Polen', 'se': 'Polen'},\n",
              "    'continent': {'en': 'Europe'},\n",
              "    'locationString': {'en': 'Warsaw, Russian Empire (now Poland)',\n",
              "     'no': 'Warszawa, Det russiske imperiet (nå Polen)',\n",
              "     'se': 'Warszawa , Kejsardömet Ryssland (nu Polen)'}}},\n",
              "  'death': {'date': '1934-07-04',\n",
              "   'place': {'city': {'en': 'Sallanches',\n",
              "     'no': 'Sallanches',\n",
              "     'se': 'Sallanches'},\n",
              "    'country': {'en': 'France', 'no': 'Frankrike', 'se': 'Frankrike'},\n",
              "    'cityNow': {'en': 'Sallanches', 'no': 'Sallanches', 'se': 'Sallanches'},\n",
              "    'countryNow': {'en': 'France', 'no': 'Frankrike', 'se': 'Frankrike'},\n",
              "    'continent': {'en': 'Europe'},\n",
              "    'locationString': {'en': 'Sallanches, France',\n",
              "     'no': 'Sallanches, Frankrike',\n",
              "     'se': 'Sallanches, Frankrike'}}},\n",
              "  'links': {'rel': 'laureate',\n",
              "   'href': 'http://masterdataapi.nobelprize.org/2/laureate/6',\n",
              "   'action': 'Get',\n",
              "   'types': 'application/json'},\n",
              "  'nobelPrizes': [{'awardYear': '1903',\n",
              "    'category': {'en': 'Physics', 'no': 'Fysikk', 'se': 'Fysik'},\n",
              "    'categoryFullName': {'en': 'The Nobel Prize in Physics',\n",
              "     'no': 'Nobelprisen i fysikk',\n",
              "     'se': 'Nobelpriset i fysik'},\n",
              "    'sortOrder': '3',\n",
              "    'portion': '1/4',\n",
              "    'prizeStatus': 'received',\n",
              "    'motivation': {'en': 'in recognition of the extraordinary services they have rendered by their joint researches on the radiation phenomena discovered by Professor Henri Becquerel',\n",
              "     'se': 'såsom ett erkännande av den utomordentliga förtjänst de inlagt genom sina gemensamt utförda arbeten rörande de av Professor Henri Becquerel upptäckta strålningsfenomenen'},\n",
              "    'prizeAmount': 141358,\n",
              "    'prizeAmountAdjusted': 7795478,\n",
              "    'links': {'rel': 'nobelPrize',\n",
              "     'href': 'https://masterdataapi.nobelprize.org/2/nobelPrize/phy/1903',\n",
              "     'action': 'Get',\n",
              "     'types': 'application/json'}},\n",
              "   {'awardYear': '1911',\n",
              "    'category': {'en': 'Chemistry', 'no': 'Kjemi', 'se': 'Kemi'},\n",
              "    'categoryFullName': {'en': 'The Nobel Prize in Chemistry',\n",
              "     'no': 'Nobelprisen i kjemi',\n",
              "     'se': 'Nobelpriset i kemi'},\n",
              "    'sortOrder': '1',\n",
              "    'portion': '1',\n",
              "    'prizeStatus': 'received',\n",
              "    'motivation': {'en': 'in recognition of her services to the advancement of chemistry by the discovery of the elements radium and polonium, by the isolation of radium and the study of the nature and compounds of this remarkable element',\n",
              "     'se': 'såsom ett erkännande för den förtjänst hon inlagt om kemiens utveckling genom upptäckten av grundämnena radium och polonium, genom karakteriserandet av radium och dess isolerande i metalliskt tillstånd samt genom sina undersökningar angående detta märkli'},\n",
              "    'prizeAmount': 140695,\n",
              "    'prizeAmountAdjusted': 7327865,\n",
              "    'affiliations': [{'name': {'en': 'Sorbonne University',\n",
              "       'no': 'Sorbonne University',\n",
              "       'se': 'Sorbonne University'},\n",
              "      'nameNow': {'en': 'Sorbonne University'},\n",
              "      'city': {'en': 'Paris', 'no': 'Paris', 'se': 'Paris'},\n",
              "      'country': {'en': 'France', 'no': 'Frankrike', 'se': 'Frankrike'},\n",
              "      'cityNow': {'en': 'Paris', 'no': 'Paris', 'se': 'Paris'},\n",
              "      'countryNow': {'en': 'France', 'no': 'Frankrike', 'se': 'Frankrike'},\n",
              "      'locationString': {'en': 'Paris, France',\n",
              "       'no': 'Paris, Frankrike',\n",
              "       'se': 'Paris, Frankrike'}}],\n",
              "    'links': {'rel': 'nobelPrize',\n",
              "     'href': 'https://masterdataapi.nobelprize.org/2/nobelPrize/che/1911',\n",
              "     'action': 'Get',\n",
              "     'types': 'application/json'}}]}]"
            ]
          },
          "metadata": {},
          "execution_count": 32
        }
      ]
    },
    {
      "cell_type": "code",
      "source": [
        "#bueno como sea, quiero sacar las categorias totales y ya sacamos el listadoo\n",
        "_pq3 = pd.DataFrame(result3)\n",
        "_pq3b = pd.DataFrame(result3b)\n",
        "\n",
        "_q3, _q3b = _pq3.explode('_id'), _pq3b.explode('_id')\n",
        "\n",
        "rq3 = _q3.groupby('_id')['count'].sum().reset_index()\n",
        "rq3b = _q3b.groupby('_id')['count'].sum().reset_index()\n",
        "\n",
        "rq3.columns = ['Category', 'Female_Count']\n",
        "rq3b.columns = ['Category', 'Total_Count']\n",
        "\n",
        "res3 = rq3.merge(rq3b, how='outer', on='Category')\n",
        "res3['Perc'] = res3['Female_Count']/res3['Total_Count']\n",
        "res3 = res3.sort_values(by='Perc')\n",
        "res3"
      ],
      "metadata": {
        "id": "GE4TiHBk31gk",
        "colab": {
          "base_uri": "https://localhost:8080/",
          "height": 237
        },
        "outputId": "62c882da-9145-4a4f-834d-9fc761cb5341"
      },
      "execution_count": 33,
      "outputs": [
        {
          "output_type": "execute_result",
          "data": {
            "text/plain": [
              "                 Category  Female_Count  Total_Count      Perc\n",
              "4                 Physics             6          426  0.014085\n",
              "1       Economic Sciences             4          168  0.023810\n",
              "0               Chemistry            10          368  0.027174\n",
              "5  Physiology or Medicine            24          438  0.054795\n",
              "3                   Peace            34          268  0.126866\n",
              "2              Literature            30          232  0.129310"
            ],
            "text/html": [
              "\n",
              "  <div id=\"df-5b7ed40f-2211-4b38-a21c-7275c0a03a7b\" class=\"colab-df-container\">\n",
              "    <div>\n",
              "<style scoped>\n",
              "    .dataframe tbody tr th:only-of-type {\n",
              "        vertical-align: middle;\n",
              "    }\n",
              "\n",
              "    .dataframe tbody tr th {\n",
              "        vertical-align: top;\n",
              "    }\n",
              "\n",
              "    .dataframe thead th {\n",
              "        text-align: right;\n",
              "    }\n",
              "</style>\n",
              "<table border=\"1\" class=\"dataframe\">\n",
              "  <thead>\n",
              "    <tr style=\"text-align: right;\">\n",
              "      <th></th>\n",
              "      <th>Category</th>\n",
              "      <th>Female_Count</th>\n",
              "      <th>Total_Count</th>\n",
              "      <th>Perc</th>\n",
              "    </tr>\n",
              "  </thead>\n",
              "  <tbody>\n",
              "    <tr>\n",
              "      <th>4</th>\n",
              "      <td>Physics</td>\n",
              "      <td>6</td>\n",
              "      <td>426</td>\n",
              "      <td>0.014085</td>\n",
              "    </tr>\n",
              "    <tr>\n",
              "      <th>1</th>\n",
              "      <td>Economic Sciences</td>\n",
              "      <td>4</td>\n",
              "      <td>168</td>\n",
              "      <td>0.023810</td>\n",
              "    </tr>\n",
              "    <tr>\n",
              "      <th>0</th>\n",
              "      <td>Chemistry</td>\n",
              "      <td>10</td>\n",
              "      <td>368</td>\n",
              "      <td>0.027174</td>\n",
              "    </tr>\n",
              "    <tr>\n",
              "      <th>5</th>\n",
              "      <td>Physiology or Medicine</td>\n",
              "      <td>24</td>\n",
              "      <td>438</td>\n",
              "      <td>0.054795</td>\n",
              "    </tr>\n",
              "    <tr>\n",
              "      <th>3</th>\n",
              "      <td>Peace</td>\n",
              "      <td>34</td>\n",
              "      <td>268</td>\n",
              "      <td>0.126866</td>\n",
              "    </tr>\n",
              "    <tr>\n",
              "      <th>2</th>\n",
              "      <td>Literature</td>\n",
              "      <td>30</td>\n",
              "      <td>232</td>\n",
              "      <td>0.129310</td>\n",
              "    </tr>\n",
              "  </tbody>\n",
              "</table>\n",
              "</div>\n",
              "    <div class=\"colab-df-buttons\">\n",
              "\n",
              "  <div class=\"colab-df-container\">\n",
              "    <button class=\"colab-df-convert\" onclick=\"convertToInteractive('df-5b7ed40f-2211-4b38-a21c-7275c0a03a7b')\"\n",
              "            title=\"Convert this dataframe to an interactive table.\"\n",
              "            style=\"display:none;\">\n",
              "\n",
              "  <svg xmlns=\"http://www.w3.org/2000/svg\" height=\"24px\" viewBox=\"0 -960 960 960\">\n",
              "    <path d=\"M120-120v-720h720v720H120Zm60-500h600v-160H180v160Zm220 220h160v-160H400v160Zm0 220h160v-160H400v160ZM180-400h160v-160H180v160Zm440 0h160v-160H620v160ZM180-180h160v-160H180v160Zm440 0h160v-160H620v160Z\"/>\n",
              "  </svg>\n",
              "    </button>\n",
              "\n",
              "  <style>\n",
              "    .colab-df-container {\n",
              "      display:flex;\n",
              "      gap: 12px;\n",
              "    }\n",
              "\n",
              "    .colab-df-convert {\n",
              "      background-color: #E8F0FE;\n",
              "      border: none;\n",
              "      border-radius: 50%;\n",
              "      cursor: pointer;\n",
              "      display: none;\n",
              "      fill: #1967D2;\n",
              "      height: 32px;\n",
              "      padding: 0 0 0 0;\n",
              "      width: 32px;\n",
              "    }\n",
              "\n",
              "    .colab-df-convert:hover {\n",
              "      background-color: #E2EBFA;\n",
              "      box-shadow: 0px 1px 2px rgba(60, 64, 67, 0.3), 0px 1px 3px 1px rgba(60, 64, 67, 0.15);\n",
              "      fill: #174EA6;\n",
              "    }\n",
              "\n",
              "    .colab-df-buttons div {\n",
              "      margin-bottom: 4px;\n",
              "    }\n",
              "\n",
              "    [theme=dark] .colab-df-convert {\n",
              "      background-color: #3B4455;\n",
              "      fill: #D2E3FC;\n",
              "    }\n",
              "\n",
              "    [theme=dark] .colab-df-convert:hover {\n",
              "      background-color: #434B5C;\n",
              "      box-shadow: 0px 1px 3px 1px rgba(0, 0, 0, 0.15);\n",
              "      filter: drop-shadow(0px 1px 2px rgba(0, 0, 0, 0.3));\n",
              "      fill: #FFFFFF;\n",
              "    }\n",
              "  </style>\n",
              "\n",
              "    <script>\n",
              "      const buttonEl =\n",
              "        document.querySelector('#df-5b7ed40f-2211-4b38-a21c-7275c0a03a7b button.colab-df-convert');\n",
              "      buttonEl.style.display =\n",
              "        google.colab.kernel.accessAllowed ? 'block' : 'none';\n",
              "\n",
              "      async function convertToInteractive(key) {\n",
              "        const element = document.querySelector('#df-5b7ed40f-2211-4b38-a21c-7275c0a03a7b');\n",
              "        const dataTable =\n",
              "          await google.colab.kernel.invokeFunction('convertToInteractive',\n",
              "                                                    [key], {});\n",
              "        if (!dataTable) return;\n",
              "\n",
              "        const docLinkHtml = 'Like what you see? Visit the ' +\n",
              "          '<a target=\"_blank\" href=https://colab.research.google.com/notebooks/data_table.ipynb>data table notebook</a>'\n",
              "          + ' to learn more about interactive tables.';\n",
              "        element.innerHTML = '';\n",
              "        dataTable['output_type'] = 'display_data';\n",
              "        await google.colab.output.renderOutput(dataTable, element);\n",
              "        const docLink = document.createElement('div');\n",
              "        docLink.innerHTML = docLinkHtml;\n",
              "        element.appendChild(docLink);\n",
              "      }\n",
              "    </script>\n",
              "  </div>\n",
              "\n",
              "\n",
              "<div id=\"df-a076ff2a-1535-49c0-9176-29455fe1df30\">\n",
              "  <button class=\"colab-df-quickchart\" onclick=\"quickchart('df-a076ff2a-1535-49c0-9176-29455fe1df30')\"\n",
              "            title=\"Suggest charts\"\n",
              "            style=\"display:none;\">\n",
              "\n",
              "<svg xmlns=\"http://www.w3.org/2000/svg\" height=\"24px\"viewBox=\"0 0 24 24\"\n",
              "     width=\"24px\">\n",
              "    <g>\n",
              "        <path d=\"M19 3H5c-1.1 0-2 .9-2 2v14c0 1.1.9 2 2 2h14c1.1 0 2-.9 2-2V5c0-1.1-.9-2-2-2zM9 17H7v-7h2v7zm4 0h-2V7h2v10zm4 0h-2v-4h2v4z\"/>\n",
              "    </g>\n",
              "</svg>\n",
              "  </button>\n",
              "\n",
              "<style>\n",
              "  .colab-df-quickchart {\n",
              "      --bg-color: #E8F0FE;\n",
              "      --fill-color: #1967D2;\n",
              "      --hover-bg-color: #E2EBFA;\n",
              "      --hover-fill-color: #174EA6;\n",
              "      --disabled-fill-color: #AAA;\n",
              "      --disabled-bg-color: #DDD;\n",
              "  }\n",
              "\n",
              "  [theme=dark] .colab-df-quickchart {\n",
              "      --bg-color: #3B4455;\n",
              "      --fill-color: #D2E3FC;\n",
              "      --hover-bg-color: #434B5C;\n",
              "      --hover-fill-color: #FFFFFF;\n",
              "      --disabled-bg-color: #3B4455;\n",
              "      --disabled-fill-color: #666;\n",
              "  }\n",
              "\n",
              "  .colab-df-quickchart {\n",
              "    background-color: var(--bg-color);\n",
              "    border: none;\n",
              "    border-radius: 50%;\n",
              "    cursor: pointer;\n",
              "    display: none;\n",
              "    fill: var(--fill-color);\n",
              "    height: 32px;\n",
              "    padding: 0;\n",
              "    width: 32px;\n",
              "  }\n",
              "\n",
              "  .colab-df-quickchart:hover {\n",
              "    background-color: var(--hover-bg-color);\n",
              "    box-shadow: 0 1px 2px rgba(60, 64, 67, 0.3), 0 1px 3px 1px rgba(60, 64, 67, 0.15);\n",
              "    fill: var(--button-hover-fill-color);\n",
              "  }\n",
              "\n",
              "  .colab-df-quickchart-complete:disabled,\n",
              "  .colab-df-quickchart-complete:disabled:hover {\n",
              "    background-color: var(--disabled-bg-color);\n",
              "    fill: var(--disabled-fill-color);\n",
              "    box-shadow: none;\n",
              "  }\n",
              "\n",
              "  .colab-df-spinner {\n",
              "    border: 2px solid var(--fill-color);\n",
              "    border-color: transparent;\n",
              "    border-bottom-color: var(--fill-color);\n",
              "    animation:\n",
              "      spin 1s steps(1) infinite;\n",
              "  }\n",
              "\n",
              "  @keyframes spin {\n",
              "    0% {\n",
              "      border-color: transparent;\n",
              "      border-bottom-color: var(--fill-color);\n",
              "      border-left-color: var(--fill-color);\n",
              "    }\n",
              "    20% {\n",
              "      border-color: transparent;\n",
              "      border-left-color: var(--fill-color);\n",
              "      border-top-color: var(--fill-color);\n",
              "    }\n",
              "    30% {\n",
              "      border-color: transparent;\n",
              "      border-left-color: var(--fill-color);\n",
              "      border-top-color: var(--fill-color);\n",
              "      border-right-color: var(--fill-color);\n",
              "    }\n",
              "    40% {\n",
              "      border-color: transparent;\n",
              "      border-right-color: var(--fill-color);\n",
              "      border-top-color: var(--fill-color);\n",
              "    }\n",
              "    60% {\n",
              "      border-color: transparent;\n",
              "      border-right-color: var(--fill-color);\n",
              "    }\n",
              "    80% {\n",
              "      border-color: transparent;\n",
              "      border-right-color: var(--fill-color);\n",
              "      border-bottom-color: var(--fill-color);\n",
              "    }\n",
              "    90% {\n",
              "      border-color: transparent;\n",
              "      border-bottom-color: var(--fill-color);\n",
              "    }\n",
              "  }\n",
              "</style>\n",
              "\n",
              "  <script>\n",
              "    async function quickchart(key) {\n",
              "      const quickchartButtonEl =\n",
              "        document.querySelector('#' + key + ' button');\n",
              "      quickchartButtonEl.disabled = true;  // To prevent multiple clicks.\n",
              "      quickchartButtonEl.classList.add('colab-df-spinner');\n",
              "      try {\n",
              "        const charts = await google.colab.kernel.invokeFunction(\n",
              "            'suggestCharts', [key], {});\n",
              "      } catch (error) {\n",
              "        console.error('Error during call to suggestCharts:', error);\n",
              "      }\n",
              "      quickchartButtonEl.classList.remove('colab-df-spinner');\n",
              "      quickchartButtonEl.classList.add('colab-df-quickchart-complete');\n",
              "    }\n",
              "    (() => {\n",
              "      let quickchartButtonEl =\n",
              "        document.querySelector('#df-a076ff2a-1535-49c0-9176-29455fe1df30 button');\n",
              "      quickchartButtonEl.style.display =\n",
              "        google.colab.kernel.accessAllowed ? 'block' : 'none';\n",
              "    })();\n",
              "  </script>\n",
              "</div>\n",
              "\n",
              "  <div id=\"id_d82ea73b-8e76-4cb7-9623-849afa6c40d7\">\n",
              "    <style>\n",
              "      .colab-df-generate {\n",
              "        background-color: #E8F0FE;\n",
              "        border: none;\n",
              "        border-radius: 50%;\n",
              "        cursor: pointer;\n",
              "        display: none;\n",
              "        fill: #1967D2;\n",
              "        height: 32px;\n",
              "        padding: 0 0 0 0;\n",
              "        width: 32px;\n",
              "      }\n",
              "\n",
              "      .colab-df-generate:hover {\n",
              "        background-color: #E2EBFA;\n",
              "        box-shadow: 0px 1px 2px rgba(60, 64, 67, 0.3), 0px 1px 3px 1px rgba(60, 64, 67, 0.15);\n",
              "        fill: #174EA6;\n",
              "      }\n",
              "\n",
              "      [theme=dark] .colab-df-generate {\n",
              "        background-color: #3B4455;\n",
              "        fill: #D2E3FC;\n",
              "      }\n",
              "\n",
              "      [theme=dark] .colab-df-generate:hover {\n",
              "        background-color: #434B5C;\n",
              "        box-shadow: 0px 1px 3px 1px rgba(0, 0, 0, 0.15);\n",
              "        filter: drop-shadow(0px 1px 2px rgba(0, 0, 0, 0.3));\n",
              "        fill: #FFFFFF;\n",
              "      }\n",
              "    </style>\n",
              "    <button class=\"colab-df-generate\" onclick=\"generateWithVariable('res3')\"\n",
              "            title=\"Generate code using this dataframe.\"\n",
              "            style=\"display:none;\">\n",
              "\n",
              "  <svg xmlns=\"http://www.w3.org/2000/svg\" height=\"24px\"viewBox=\"0 0 24 24\"\n",
              "       width=\"24px\">\n",
              "    <path d=\"M7,19H8.4L18.45,9,17,7.55,7,17.6ZM5,21V16.75L18.45,3.32a2,2,0,0,1,2.83,0l1.4,1.43a1.91,1.91,0,0,1,.58,1.4,1.91,1.91,0,0,1-.58,1.4L9.25,21ZM18.45,9,17,7.55Zm-12,3A5.31,5.31,0,0,0,4.9,8.1,5.31,5.31,0,0,0,1,6.5,5.31,5.31,0,0,0,4.9,4.9,5.31,5.31,0,0,0,6.5,1,5.31,5.31,0,0,0,8.1,4.9,5.31,5.31,0,0,0,12,6.5,5.46,5.46,0,0,0,6.5,12Z\"/>\n",
              "  </svg>\n",
              "    </button>\n",
              "    <script>\n",
              "      (() => {\n",
              "      const buttonEl =\n",
              "        document.querySelector('#id_d82ea73b-8e76-4cb7-9623-849afa6c40d7 button.colab-df-generate');\n",
              "      buttonEl.style.display =\n",
              "        google.colab.kernel.accessAllowed ? 'block' : 'none';\n",
              "\n",
              "      buttonEl.onclick = () => {\n",
              "        google.colab.notebook.generateWithVariable('res3');\n",
              "      }\n",
              "      })();\n",
              "    </script>\n",
              "  </div>\n",
              "\n",
              "    </div>\n",
              "  </div>\n"
            ],
            "application/vnd.google.colaboratory.intrinsic+json": {
              "type": "dataframe",
              "variable_name": "res3",
              "summary": "{\n  \"name\": \"res3\",\n  \"rows\": 6,\n  \"fields\": [\n    {\n      \"column\": \"Category\",\n      \"properties\": {\n        \"dtype\": \"string\",\n        \"num_unique_values\": 6,\n        \"samples\": [\n          \"Physics\",\n          \"Economic Sciences\",\n          \"Literature\"\n        ],\n        \"semantic_type\": \"\",\n        \"description\": \"\"\n      }\n    },\n    {\n      \"column\": \"Female_Count\",\n      \"properties\": {\n        \"dtype\": \"number\",\n        \"std\": 12,\n        \"min\": 4,\n        \"max\": 34,\n        \"num_unique_values\": 6,\n        \"samples\": [\n          6,\n          4,\n          30\n        ],\n        \"semantic_type\": \"\",\n        \"description\": \"\"\n      }\n    },\n    {\n      \"column\": \"Total_Count\",\n      \"properties\": {\n        \"dtype\": \"number\",\n        \"std\": 110,\n        \"min\": 168,\n        \"max\": 438,\n        \"num_unique_values\": 6,\n        \"samples\": [\n          426,\n          168,\n          232\n        ],\n        \"semantic_type\": \"\",\n        \"description\": \"\"\n      }\n    },\n    {\n      \"column\": \"Perc\",\n      \"properties\": {\n        \"dtype\": \"number\",\n        \"std\": 0.052449407739036905,\n        \"min\": 0.014084507042253521,\n        \"max\": 0.12931034482758622,\n        \"num_unique_values\": 6,\n        \"samples\": [\n          0.014084507042253521,\n          0.023809523809523808,\n          0.12931034482758622\n        ],\n        \"semantic_type\": \"\",\n        \"description\": \"\"\n      }\n    }\n  ]\n}"
            }
          },
          "metadata": {},
          "execution_count": 33
        }
      ]
    },
    {
      "cell_type": "code",
      "source": [
        "p3 = res3[res3['Perc']<0.05]['Category'].unique()\n",
        "\n",
        "print(f'El listado de Categorias con representacion <5%')\n",
        "p3"
      ],
      "metadata": {
        "colab": {
          "base_uri": "https://localhost:8080/"
        },
        "id": "p7nPwRU7iTp9",
        "outputId": "424f3caa-503f-41eb-df90-21e782337954"
      },
      "execution_count": 34,
      "outputs": [
        {
          "output_type": "stream",
          "name": "stdout",
          "text": [
            "El listado de Categorias con representacion <5%\n"
          ]
        },
        {
          "output_type": "execute_result",
          "data": {
            "text/plain": [
              "array(['Physics', 'Economic Sciences', 'Chemistry'], dtype=object)"
            ]
          },
          "metadata": {},
          "execution_count": 34
        }
      ]
    },
    {
      "cell_type": "markdown",
      "source": [
        "# 4to Query, Listado de Paises con menor representacion de mujeres"
      ],
      "metadata": {
        "id": "gN84BRF8kC7-"
      }
    },
    {
      "cell_type": "code",
      "source": [
        "#hay hubiera hecho una funcion pero bueno, ya na mas falta otra....\n",
        "pipeline4 = [\n",
        "    {\"$match\": {\"gender\": \"female\"}},\n",
        "    {\"$group\": {\"_id\": \"$birth.place.countryNow.en\", \"count\": {\"$sum\": 1}}},\n",
        "    {\"$sort\": {\"count\": 1}},\n",
        "]\n",
        "\n",
        "result4 = list(lau.aggregate(pipeline4))\n",
        "\"\"\"\n",
        "nobelPrizes': [{'awardYear': '1998',\n",
        "   'category': {'en': 'Physics'\n",
        "   \"\"\"\n",
        "_p4 = pd.DataFrame(result4)\n",
        "_p4.columns=['Country', 'Female_Count']"
      ],
      "metadata": {
        "id": "Kf14kaYtkPNt"
      },
      "execution_count": 35,
      "outputs": []
    },
    {
      "cell_type": "code",
      "source": [
        "pipeline4b = [\n",
        "    {\"$group\": {\"_id\": \"$birth.place.countryNow.en\", \"count\": {\"$sum\": 1}}},\n",
        "]\n",
        "\n",
        "result4b = list(lau.aggregate(pipeline4b))\n",
        "\n",
        "_p4b = pd.DataFrame(result4b)\n",
        "_p4b.columns=['Country', 'Total_Count']"
      ],
      "metadata": {
        "id": "gbXaDvKSlc1K"
      },
      "execution_count": 36,
      "outputs": []
    },
    {
      "cell_type": "code",
      "source": [
        "p4 = _p4.merge(_p4b, how='outer', on='Country')\n",
        "p4['Perc'] = p4['Female_Count']/p4['Total_Count']\n",
        "p4['Perc'] = p4['Perc'].fillna(0)\n",
        "p4 = p4.sort_values(by='Perc')\n",
        "p4"
      ],
      "metadata": {
        "colab": {
          "base_uri": "https://localhost:8080/",
          "height": 423
        },
        "id": "yy6xDSszmPYV",
        "outputId": "e92c32df-107f-49d6-854a-947560de4829"
      },
      "execution_count": 37,
      "outputs": [
        {
          "output_type": "execute_result",
          "data": {
            "text/plain": [
              "            Country  Female_Count  Total_Count  Perc\n",
              "41      Saint Lucia           NaN            4   0.0\n",
              "59          Vietnam           NaN            2   0.0\n",
              "58            India           NaN           18   0.0\n",
              "57          Iceland           NaN            2   0.0\n",
              "56             None           NaN           48   0.0\n",
              "..              ...           ...          ...   ...\n",
              "3             Kenya           2.0            2   1.0\n",
              "2           Myanmar           2.0            2   1.0\n",
              "25             Iran           4.0            4   1.0\n",
              "7   North Macedonia           2.0            2   1.0\n",
              "19          Liberia           4.0            4   1.0\n",
              "\n",
              "[83 rows x 4 columns]"
            ],
            "text/html": [
              "\n",
              "  <div id=\"df-5b1677a8-18d9-4cca-b80c-ab7f0e742d4b\" class=\"colab-df-container\">\n",
              "    <div>\n",
              "<style scoped>\n",
              "    .dataframe tbody tr th:only-of-type {\n",
              "        vertical-align: middle;\n",
              "    }\n",
              "\n",
              "    .dataframe tbody tr th {\n",
              "        vertical-align: top;\n",
              "    }\n",
              "\n",
              "    .dataframe thead th {\n",
              "        text-align: right;\n",
              "    }\n",
              "</style>\n",
              "<table border=\"1\" class=\"dataframe\">\n",
              "  <thead>\n",
              "    <tr style=\"text-align: right;\">\n",
              "      <th></th>\n",
              "      <th>Country</th>\n",
              "      <th>Female_Count</th>\n",
              "      <th>Total_Count</th>\n",
              "      <th>Perc</th>\n",
              "    </tr>\n",
              "  </thead>\n",
              "  <tbody>\n",
              "    <tr>\n",
              "      <th>41</th>\n",
              "      <td>Saint Lucia</td>\n",
              "      <td>NaN</td>\n",
              "      <td>4</td>\n",
              "      <td>0.0</td>\n",
              "    </tr>\n",
              "    <tr>\n",
              "      <th>59</th>\n",
              "      <td>Vietnam</td>\n",
              "      <td>NaN</td>\n",
              "      <td>2</td>\n",
              "      <td>0.0</td>\n",
              "    </tr>\n",
              "    <tr>\n",
              "      <th>58</th>\n",
              "      <td>India</td>\n",
              "      <td>NaN</td>\n",
              "      <td>18</td>\n",
              "      <td>0.0</td>\n",
              "    </tr>\n",
              "    <tr>\n",
              "      <th>57</th>\n",
              "      <td>Iceland</td>\n",
              "      <td>NaN</td>\n",
              "      <td>2</td>\n",
              "      <td>0.0</td>\n",
              "    </tr>\n",
              "    <tr>\n",
              "      <th>56</th>\n",
              "      <td>None</td>\n",
              "      <td>NaN</td>\n",
              "      <td>48</td>\n",
              "      <td>0.0</td>\n",
              "    </tr>\n",
              "    <tr>\n",
              "      <th>...</th>\n",
              "      <td>...</td>\n",
              "      <td>...</td>\n",
              "      <td>...</td>\n",
              "      <td>...</td>\n",
              "    </tr>\n",
              "    <tr>\n",
              "      <th>3</th>\n",
              "      <td>Kenya</td>\n",
              "      <td>2.0</td>\n",
              "      <td>2</td>\n",
              "      <td>1.0</td>\n",
              "    </tr>\n",
              "    <tr>\n",
              "      <th>2</th>\n",
              "      <td>Myanmar</td>\n",
              "      <td>2.0</td>\n",
              "      <td>2</td>\n",
              "      <td>1.0</td>\n",
              "    </tr>\n",
              "    <tr>\n",
              "      <th>25</th>\n",
              "      <td>Iran</td>\n",
              "      <td>4.0</td>\n",
              "      <td>4</td>\n",
              "      <td>1.0</td>\n",
              "    </tr>\n",
              "    <tr>\n",
              "      <th>7</th>\n",
              "      <td>North Macedonia</td>\n",
              "      <td>2.0</td>\n",
              "      <td>2</td>\n",
              "      <td>1.0</td>\n",
              "    </tr>\n",
              "    <tr>\n",
              "      <th>19</th>\n",
              "      <td>Liberia</td>\n",
              "      <td>4.0</td>\n",
              "      <td>4</td>\n",
              "      <td>1.0</td>\n",
              "    </tr>\n",
              "  </tbody>\n",
              "</table>\n",
              "<p>83 rows × 4 columns</p>\n",
              "</div>\n",
              "    <div class=\"colab-df-buttons\">\n",
              "\n",
              "  <div class=\"colab-df-container\">\n",
              "    <button class=\"colab-df-convert\" onclick=\"convertToInteractive('df-5b1677a8-18d9-4cca-b80c-ab7f0e742d4b')\"\n",
              "            title=\"Convert this dataframe to an interactive table.\"\n",
              "            style=\"display:none;\">\n",
              "\n",
              "  <svg xmlns=\"http://www.w3.org/2000/svg\" height=\"24px\" viewBox=\"0 -960 960 960\">\n",
              "    <path d=\"M120-120v-720h720v720H120Zm60-500h600v-160H180v160Zm220 220h160v-160H400v160Zm0 220h160v-160H400v160ZM180-400h160v-160H180v160Zm440 0h160v-160H620v160ZM180-180h160v-160H180v160Zm440 0h160v-160H620v160Z\"/>\n",
              "  </svg>\n",
              "    </button>\n",
              "\n",
              "  <style>\n",
              "    .colab-df-container {\n",
              "      display:flex;\n",
              "      gap: 12px;\n",
              "    }\n",
              "\n",
              "    .colab-df-convert {\n",
              "      background-color: #E8F0FE;\n",
              "      border: none;\n",
              "      border-radius: 50%;\n",
              "      cursor: pointer;\n",
              "      display: none;\n",
              "      fill: #1967D2;\n",
              "      height: 32px;\n",
              "      padding: 0 0 0 0;\n",
              "      width: 32px;\n",
              "    }\n",
              "\n",
              "    .colab-df-convert:hover {\n",
              "      background-color: #E2EBFA;\n",
              "      box-shadow: 0px 1px 2px rgba(60, 64, 67, 0.3), 0px 1px 3px 1px rgba(60, 64, 67, 0.15);\n",
              "      fill: #174EA6;\n",
              "    }\n",
              "\n",
              "    .colab-df-buttons div {\n",
              "      margin-bottom: 4px;\n",
              "    }\n",
              "\n",
              "    [theme=dark] .colab-df-convert {\n",
              "      background-color: #3B4455;\n",
              "      fill: #D2E3FC;\n",
              "    }\n",
              "\n",
              "    [theme=dark] .colab-df-convert:hover {\n",
              "      background-color: #434B5C;\n",
              "      box-shadow: 0px 1px 3px 1px rgba(0, 0, 0, 0.15);\n",
              "      filter: drop-shadow(0px 1px 2px rgba(0, 0, 0, 0.3));\n",
              "      fill: #FFFFFF;\n",
              "    }\n",
              "  </style>\n",
              "\n",
              "    <script>\n",
              "      const buttonEl =\n",
              "        document.querySelector('#df-5b1677a8-18d9-4cca-b80c-ab7f0e742d4b button.colab-df-convert');\n",
              "      buttonEl.style.display =\n",
              "        google.colab.kernel.accessAllowed ? 'block' : 'none';\n",
              "\n",
              "      async function convertToInteractive(key) {\n",
              "        const element = document.querySelector('#df-5b1677a8-18d9-4cca-b80c-ab7f0e742d4b');\n",
              "        const dataTable =\n",
              "          await google.colab.kernel.invokeFunction('convertToInteractive',\n",
              "                                                    [key], {});\n",
              "        if (!dataTable) return;\n",
              "\n",
              "        const docLinkHtml = 'Like what you see? Visit the ' +\n",
              "          '<a target=\"_blank\" href=https://colab.research.google.com/notebooks/data_table.ipynb>data table notebook</a>'\n",
              "          + ' to learn more about interactive tables.';\n",
              "        element.innerHTML = '';\n",
              "        dataTable['output_type'] = 'display_data';\n",
              "        await google.colab.output.renderOutput(dataTable, element);\n",
              "        const docLink = document.createElement('div');\n",
              "        docLink.innerHTML = docLinkHtml;\n",
              "        element.appendChild(docLink);\n",
              "      }\n",
              "    </script>\n",
              "  </div>\n",
              "\n",
              "\n",
              "<div id=\"df-8c9c3d75-5210-4030-97a8-4ad780ddaefc\">\n",
              "  <button class=\"colab-df-quickchart\" onclick=\"quickchart('df-8c9c3d75-5210-4030-97a8-4ad780ddaefc')\"\n",
              "            title=\"Suggest charts\"\n",
              "            style=\"display:none;\">\n",
              "\n",
              "<svg xmlns=\"http://www.w3.org/2000/svg\" height=\"24px\"viewBox=\"0 0 24 24\"\n",
              "     width=\"24px\">\n",
              "    <g>\n",
              "        <path d=\"M19 3H5c-1.1 0-2 .9-2 2v14c0 1.1.9 2 2 2h14c1.1 0 2-.9 2-2V5c0-1.1-.9-2-2-2zM9 17H7v-7h2v7zm4 0h-2V7h2v10zm4 0h-2v-4h2v4z\"/>\n",
              "    </g>\n",
              "</svg>\n",
              "  </button>\n",
              "\n",
              "<style>\n",
              "  .colab-df-quickchart {\n",
              "      --bg-color: #E8F0FE;\n",
              "      --fill-color: #1967D2;\n",
              "      --hover-bg-color: #E2EBFA;\n",
              "      --hover-fill-color: #174EA6;\n",
              "      --disabled-fill-color: #AAA;\n",
              "      --disabled-bg-color: #DDD;\n",
              "  }\n",
              "\n",
              "  [theme=dark] .colab-df-quickchart {\n",
              "      --bg-color: #3B4455;\n",
              "      --fill-color: #D2E3FC;\n",
              "      --hover-bg-color: #434B5C;\n",
              "      --hover-fill-color: #FFFFFF;\n",
              "      --disabled-bg-color: #3B4455;\n",
              "      --disabled-fill-color: #666;\n",
              "  }\n",
              "\n",
              "  .colab-df-quickchart {\n",
              "    background-color: var(--bg-color);\n",
              "    border: none;\n",
              "    border-radius: 50%;\n",
              "    cursor: pointer;\n",
              "    display: none;\n",
              "    fill: var(--fill-color);\n",
              "    height: 32px;\n",
              "    padding: 0;\n",
              "    width: 32px;\n",
              "  }\n",
              "\n",
              "  .colab-df-quickchart:hover {\n",
              "    background-color: var(--hover-bg-color);\n",
              "    box-shadow: 0 1px 2px rgba(60, 64, 67, 0.3), 0 1px 3px 1px rgba(60, 64, 67, 0.15);\n",
              "    fill: var(--button-hover-fill-color);\n",
              "  }\n",
              "\n",
              "  .colab-df-quickchart-complete:disabled,\n",
              "  .colab-df-quickchart-complete:disabled:hover {\n",
              "    background-color: var(--disabled-bg-color);\n",
              "    fill: var(--disabled-fill-color);\n",
              "    box-shadow: none;\n",
              "  }\n",
              "\n",
              "  .colab-df-spinner {\n",
              "    border: 2px solid var(--fill-color);\n",
              "    border-color: transparent;\n",
              "    border-bottom-color: var(--fill-color);\n",
              "    animation:\n",
              "      spin 1s steps(1) infinite;\n",
              "  }\n",
              "\n",
              "  @keyframes spin {\n",
              "    0% {\n",
              "      border-color: transparent;\n",
              "      border-bottom-color: var(--fill-color);\n",
              "      border-left-color: var(--fill-color);\n",
              "    }\n",
              "    20% {\n",
              "      border-color: transparent;\n",
              "      border-left-color: var(--fill-color);\n",
              "      border-top-color: var(--fill-color);\n",
              "    }\n",
              "    30% {\n",
              "      border-color: transparent;\n",
              "      border-left-color: var(--fill-color);\n",
              "      border-top-color: var(--fill-color);\n",
              "      border-right-color: var(--fill-color);\n",
              "    }\n",
              "    40% {\n",
              "      border-color: transparent;\n",
              "      border-right-color: var(--fill-color);\n",
              "      border-top-color: var(--fill-color);\n",
              "    }\n",
              "    60% {\n",
              "      border-color: transparent;\n",
              "      border-right-color: var(--fill-color);\n",
              "    }\n",
              "    80% {\n",
              "      border-color: transparent;\n",
              "      border-right-color: var(--fill-color);\n",
              "      border-bottom-color: var(--fill-color);\n",
              "    }\n",
              "    90% {\n",
              "      border-color: transparent;\n",
              "      border-bottom-color: var(--fill-color);\n",
              "    }\n",
              "  }\n",
              "</style>\n",
              "\n",
              "  <script>\n",
              "    async function quickchart(key) {\n",
              "      const quickchartButtonEl =\n",
              "        document.querySelector('#' + key + ' button');\n",
              "      quickchartButtonEl.disabled = true;  // To prevent multiple clicks.\n",
              "      quickchartButtonEl.classList.add('colab-df-spinner');\n",
              "      try {\n",
              "        const charts = await google.colab.kernel.invokeFunction(\n",
              "            'suggestCharts', [key], {});\n",
              "      } catch (error) {\n",
              "        console.error('Error during call to suggestCharts:', error);\n",
              "      }\n",
              "      quickchartButtonEl.classList.remove('colab-df-spinner');\n",
              "      quickchartButtonEl.classList.add('colab-df-quickchart-complete');\n",
              "    }\n",
              "    (() => {\n",
              "      let quickchartButtonEl =\n",
              "        document.querySelector('#df-8c9c3d75-5210-4030-97a8-4ad780ddaefc button');\n",
              "      quickchartButtonEl.style.display =\n",
              "        google.colab.kernel.accessAllowed ? 'block' : 'none';\n",
              "    })();\n",
              "  </script>\n",
              "</div>\n",
              "\n",
              "  <div id=\"id_adfa19f5-28df-46b1-a830-7da857e634ea\">\n",
              "    <style>\n",
              "      .colab-df-generate {\n",
              "        background-color: #E8F0FE;\n",
              "        border: none;\n",
              "        border-radius: 50%;\n",
              "        cursor: pointer;\n",
              "        display: none;\n",
              "        fill: #1967D2;\n",
              "        height: 32px;\n",
              "        padding: 0 0 0 0;\n",
              "        width: 32px;\n",
              "      }\n",
              "\n",
              "      .colab-df-generate:hover {\n",
              "        background-color: #E2EBFA;\n",
              "        box-shadow: 0px 1px 2px rgba(60, 64, 67, 0.3), 0px 1px 3px 1px rgba(60, 64, 67, 0.15);\n",
              "        fill: #174EA6;\n",
              "      }\n",
              "\n",
              "      [theme=dark] .colab-df-generate {\n",
              "        background-color: #3B4455;\n",
              "        fill: #D2E3FC;\n",
              "      }\n",
              "\n",
              "      [theme=dark] .colab-df-generate:hover {\n",
              "        background-color: #434B5C;\n",
              "        box-shadow: 0px 1px 3px 1px rgba(0, 0, 0, 0.15);\n",
              "        filter: drop-shadow(0px 1px 2px rgba(0, 0, 0, 0.3));\n",
              "        fill: #FFFFFF;\n",
              "      }\n",
              "    </style>\n",
              "    <button class=\"colab-df-generate\" onclick=\"generateWithVariable('p4')\"\n",
              "            title=\"Generate code using this dataframe.\"\n",
              "            style=\"display:none;\">\n",
              "\n",
              "  <svg xmlns=\"http://www.w3.org/2000/svg\" height=\"24px\"viewBox=\"0 0 24 24\"\n",
              "       width=\"24px\">\n",
              "    <path d=\"M7,19H8.4L18.45,9,17,7.55,7,17.6ZM5,21V16.75L18.45,3.32a2,2,0,0,1,2.83,0l1.4,1.43a1.91,1.91,0,0,1,.58,1.4,1.91,1.91,0,0,1-.58,1.4L9.25,21ZM18.45,9,17,7.55Zm-12,3A5.31,5.31,0,0,0,4.9,8.1,5.31,5.31,0,0,0,1,6.5,5.31,5.31,0,0,0,4.9,4.9,5.31,5.31,0,0,0,6.5,1,5.31,5.31,0,0,0,8.1,4.9,5.31,5.31,0,0,0,12,6.5,5.46,5.46,0,0,0,6.5,12Z\"/>\n",
              "  </svg>\n",
              "    </button>\n",
              "    <script>\n",
              "      (() => {\n",
              "      const buttonEl =\n",
              "        document.querySelector('#id_adfa19f5-28df-46b1-a830-7da857e634ea button.colab-df-generate');\n",
              "      buttonEl.style.display =\n",
              "        google.colab.kernel.accessAllowed ? 'block' : 'none';\n",
              "\n",
              "      buttonEl.onclick = () => {\n",
              "        google.colab.notebook.generateWithVariable('p4');\n",
              "      }\n",
              "      })();\n",
              "    </script>\n",
              "  </div>\n",
              "\n",
              "    </div>\n",
              "  </div>\n"
            ],
            "application/vnd.google.colaboratory.intrinsic+json": {
              "type": "dataframe",
              "variable_name": "p4",
              "summary": "{\n  \"name\": \"p4\",\n  \"rows\": 83,\n  \"fields\": [\n    {\n      \"column\": \"Country\",\n      \"properties\": {\n        \"dtype\": \"string\",\n        \"num_unique_values\": 82,\n        \"samples\": [\n          \"Turkey\",\n          \"Saint Lucia\",\n          \"Bangladesh\"\n        ],\n        \"semantic_type\": \"\",\n        \"description\": \"\"\n      }\n    },\n    {\n      \"column\": \"Female_Count\",\n      \"properties\": {\n        \"dtype\": \"number\",\n        \"std\": 4.177113340821501,\n        \"min\": 2.0,\n        \"max\": 24.0,\n        \"num_unique_values\": 5,\n        \"samples\": [\n          24.0,\n          8.0,\n          6.0\n        ],\n        \"semantic_type\": \"\",\n        \"description\": \"\"\n      }\n    },\n    {\n      \"column\": \"Total_Count\",\n      \"properties\": {\n        \"dtype\": \"number\",\n        \"std\": 65,\n        \"min\": 2,\n        \"max\": 544,\n        \"num_unique_values\": 22,\n        \"samples\": [\n          4,\n          54,\n          52\n        ],\n        \"semantic_type\": \"\",\n        \"description\": \"\"\n      }\n    },\n    {\n      \"column\": \"Perc\",\n      \"properties\": {\n        \"dtype\": \"number\",\n        \"std\": 0.28594510901350595,\n        \"min\": 0.0,\n        \"max\": 1.0,\n        \"num_unique_values\": 19,\n        \"samples\": [\n          0.0,\n          0.06896551724137931,\n          0.14814814814814814\n        ],\n        \"semantic_type\": \"\",\n        \"description\": \"\"\n      }\n    }\n  ]\n}"
            }
          },
          "metadata": {},
          "execution_count": 37
        }
      ]
    },
    {
      "cell_type": "code",
      "source": [
        "res4 = p4[p4['Perc']<0.05]['Country'].unique()\n",
        "\n",
        "print(f'El listado de Categorias con representacion <5%')\n",
        "res4"
      ],
      "metadata": {
        "colab": {
          "base_uri": "https://localhost:8080/"
        },
        "id": "NwCQAZATnbhD",
        "outputId": "47410629-6af3-42e6-91cb-309df8f7299f"
      },
      "execution_count": 38,
      "outputs": [
        {
          "output_type": "stream",
          "name": "stdout",
          "text": [
            "El listado de Categorias con representacion <5%\n"
          ]
        },
        {
          "output_type": "execute_result",
          "data": {
            "text/plain": [
              "array(['Saint Lucia', 'Vietnam', 'India', 'Iceland', None, 'Belgium',\n",
              "       'Bulgaria', 'Hungary', 'Guadeloupe Island', 'Croatia', 'Cyprus',\n",
              "       'Algeria', 'Lithuania', 'Morocco', 'Slovakia', 'Costa Rica',\n",
              "       'Venezuela', 'Finland', 'Argentina', 'Scotland', 'Russia', 'Ghana',\n",
              "       'Mexico', 'Bangladesh', 'Spain', 'Ethiopia', 'Taiwan', 'Portugal',\n",
              "       'East Timor', 'Switzerland', 'Colombia', 'Turkey',\n",
              "       'Democratic Republic of the Congo', 'Nigeria', 'the Netherlands',\n",
              "       'Ireland', 'Faroe Islands (Denmark)', 'Luxembourg', 'Belarus',\n",
              "       'Madagascar', 'Greece', 'Peru', 'United Kingdom',\n",
              "       'Bosnia and Herzegovina', 'Trinidad and Tobago', 'Japan',\n",
              "       'New Zealand', 'Indonesia', 'Azerbaijan', 'South Korea',\n",
              "       'Slovenia', 'Latvia', 'Zimbabwe', 'Brazil', 'Germany', 'USA'],\n",
              "      dtype=object)"
            ]
          },
          "metadata": {},
          "execution_count": 38
        }
      ]
    },
    {
      "cell_type": "code",
      "source": [
        "#Mex :("
      ],
      "metadata": {
        "id": "DSHrg8_jnnHl"
      },
      "execution_count": 39,
      "outputs": []
    },
    {
      "cell_type": "markdown",
      "source": [
        "# 5to query, Listado de anios donde el numero de paises representados es menor al AVG historico..."
      ],
      "metadata": {
        "id": "5qjxEgMknp2L"
      }
    },
    {
      "cell_type": "code",
      "source": [
        "#revisando las lecciones de la clase encontre un ejemplo muy parecido:\n",
        "\n",
        "  #pude haber usado el match exist antes pero bueno jaja\n",
        "pipeline5b = [{\n",
        "    '$match':\n",
        "    {'nobelPrizes.affiliations.country.en':{\n",
        "            '$exists':1}}},\n",
        "    {\n",
        "        '$group':\n",
        "        {'_id':'$nobelPrizes.awardYear',\n",
        "            'total_countries':\n",
        "            {\"$sum\":{\n",
        "                    '$size':'$nobelPrizes.affiliations.country.en'}}}},\n",
        "    {\n",
        "        \"$sort\":\n",
        "        {\n",
        "            'total_countries':1}}]\n",
        "\n",
        "l_countries_perY = list(lau.aggregate(pipeline5b))\n",
        "l_countries_perY"
      ],
      "metadata": {
        "colab": {
          "base_uri": "https://localhost:8080/"
        },
        "id": "Y9j-xAUi54zZ",
        "outputId": "4312ed29-98f4-44db-c3e7-725a04c3a8de"
      },
      "execution_count": 40,
      "outputs": [
        {
          "output_type": "execute_result",
          "data": {
            "text/plain": [
              "[{'_id': ['1917'], 'total_countries': 2},\n",
              " {'_id': ['1903', '1911'], 'total_countries': 2},\n",
              " {'_id': ['1958', '1980'], 'total_countries': 4},\n",
              " {'_id': ['1924'], 'total_countries': 4},\n",
              " {'_id': ['1921'], 'total_countries': 4},\n",
              " {'_id': ['1962', '1954'], 'total_countries': 4},\n",
              " {'_id': ['1919'], 'total_countries': 4},\n",
              " {'_id': ['1956', '1972'], 'total_countries': 4},\n",
              " {'_id': ['1911'], 'total_countries': 4},\n",
              " {'_id': ['1918'], 'total_countries': 4},\n",
              " {'_id': ['1910'], 'total_countries': 6},\n",
              " {'_id': ['1913'], 'total_countries': 6},\n",
              " {'_id': ['1901'], 'total_countries': 6},\n",
              " {'_id': ['1930'], 'total_countries': 6},\n",
              " {'_id': ['1915'], 'total_countries': 6},\n",
              " {'_id': ['1925'], 'total_countries': 6},\n",
              " {'_id': ['1928'], 'total_countries': 6},\n",
              " {'_id': ['1933'], 'total_countries': 6},\n",
              " {'_id': ['1920'], 'total_countries': 6},\n",
              " {'_id': ['1905'], 'total_countries': 6},\n",
              " {'_id': ['1914'], 'total_countries': 6},\n",
              " {'_id': ['1926'], 'total_countries': 6},\n",
              " {'_id': ['1904'], 'total_countries': 6},\n",
              " {'_id': ['1948'], 'total_countries': 6},\n",
              " {'_id': ['1938'], 'total_countries': 6},\n",
              " {'_id': ['1923'], 'total_countries': 8},\n",
              " {'_id': ['1902'], 'total_countries': 8},\n",
              " {'_id': ['1971'], 'total_countries': 8},\n",
              " {'_id': ['1934'], 'total_countries': 8},\n",
              " {'_id': ['1966'], 'total_countries': 8},\n",
              " {'_id': ['1909'], 'total_countries': 8},\n",
              " {'_id': ['1907'], 'total_countries': 8},\n",
              " {'_id': ['1943'], 'total_countries': 8},\n",
              " {'_id': ['1906'], 'total_countries': 8},\n",
              " {'_id': ['1922'], 'total_countries': 8},\n",
              " {'_id': ['1935'], 'total_countries': 8},\n",
              " {'_id': ['1912'], 'total_countries': 8},\n",
              " {'_id': ['1908'], 'total_countries': 8},\n",
              " {'_id': ['1932'], 'total_countries': 8},\n",
              " {'_id': ['1960'], 'total_countries': 8},\n",
              " {'_id': ['1944'], 'total_countries': 8},\n",
              " {'_id': ['1927'], 'total_countries': 8},\n",
              " {'_id': ['1903'], 'total_countries': 8},\n",
              " {'_id': ['1957'], 'total_countries': 8},\n",
              " {'_id': ['1939'], 'total_countries': 8},\n",
              " {'_id': ['1961'], 'total_countries': 8},\n",
              " {'_id': ['1955'], 'total_countries': 8},\n",
              " {'_id': ['1949'], 'total_countries': 8},\n",
              " {'_id': ['1953'], 'total_countries': 8},\n",
              " {'_id': ['1999'], 'total_countries': 8},\n",
              " {'_id': ['1931'], 'total_countries': 8},\n",
              " {'_id': ['1968'], 'total_countries': 10},\n",
              " {'_id': ['1992'], 'total_countries': 10},\n",
              " {'_id': ['1954'], 'total_countries': 10},\n",
              " {'_id': ['1947'], 'total_countries': 10},\n",
              " {'_id': ['1946'], 'total_countries': 10},\n",
              " {'_id': ['1991'], 'total_countries': 10},\n",
              " {'_id': ['1951'], 'total_countries': 10},\n",
              " {'_id': ['1959'], 'total_countries': 10},\n",
              " {'_id': ['1929'], 'total_countries': 10},\n",
              " {'_id': ['1937'], 'total_countries': 10},\n",
              " {'_id': ['1952'], 'total_countries': 10},\n",
              " {'_id': ['1936'], 'total_countries': 10},\n",
              " {'_id': ['1945'], 'total_countries': 10},\n",
              " {'_id': ['1983'], 'total_countries': 10},\n",
              " {'_id': ['1962'], 'total_countries': 12},\n",
              " {'_id': ['1985'], 'total_countries': 12},\n",
              " {'_id': ['1964'], 'total_countries': 12},\n",
              " {'_id': ['1976'], 'total_countries': 12},\n",
              " {'_id': ['1974'], 'total_countries': 12},\n",
              " {'_id': ['2006'], 'total_countries': 12},\n",
              " {'_id': ['1958'], 'total_countries': 12},\n",
              " {'_id': ['1982'], 'total_countries': 12},\n",
              " {'_id': ['1965'], 'total_countries': 14},\n",
              " {'_id': ['1967'], 'total_countries': 14},\n",
              " {'_id': ['1970'], 'total_countries': 14},\n",
              " {'_id': ['1993'], 'total_countries': 14},\n",
              " {'_id': ['1950'], 'total_countries': 14},\n",
              " {'_id': ['1987'], 'total_countries': 14},\n",
              " {'_id': ['1984'], 'total_countries': 14},\n",
              " {'_id': ['1956'], 'total_countries': 14},\n",
              " {'_id': ['2012'], 'total_countries': 16},\n",
              " {'_id': ['1994'], 'total_countries': 16},\n",
              " {'_id': ['1969'], 'total_countries': 16},\n",
              " {'_id': ['1980'], 'total_countries': 16},\n",
              " {'_id': ['1963'], 'total_countries': 16},\n",
              " {'_id': ['1989'], 'total_countries': 16},\n",
              " {'_id': ['1978'], 'total_countries': 16},\n",
              " {'_id': ['1981'], 'total_countries': 18},\n",
              " {'_id': ['2011'], 'total_countries': 18},\n",
              " {'_id': ['1979'], 'total_countries': 18},\n",
              " {'_id': ['2015'], 'total_countries': 18},\n",
              " {'_id': ['1997'], 'total_countries': 18},\n",
              " {'_id': ['1995'], 'total_countries': 18},\n",
              " {'_id': ['2005'], 'total_countries': 18},\n",
              " {'_id': ['2010'], 'total_countries': 18},\n",
              " {'_id': ['1986'], 'total_countries': 18},\n",
              " {'_id': ['1972'], 'total_countries': 18},\n",
              " {'_id': ['2007'], 'total_countries': 18},\n",
              " {'_id': ['2016'], 'total_countries': 18},\n",
              " {'_id': ['1977'], 'total_countries': 18},\n",
              " {'_id': ['1998'], 'total_countries': 18},\n",
              " {'_id': ['1973'], 'total_countries': 18},\n",
              " {'_id': ['2003'], 'total_countries': 18},\n",
              " {'_id': ['1990'], 'total_countries': 18},\n",
              " {'_id': ['1996'], 'total_countries': 20},\n",
              " {'_id': ['1988'], 'total_countries': 20},\n",
              " {'_id': ['2008'], 'total_countries': 20},\n",
              " {'_id': ['2017'], 'total_countries': 20},\n",
              " {'_id': ['1975'], 'total_countries': 20},\n",
              " {'_id': ['2014'], 'total_countries': 20},\n",
              " {'_id': ['2004'], 'total_countries': 20},\n",
              " {'_id': ['2018'], 'total_countries': 20},\n",
              " {'_id': ['2013'], 'total_countries': 22},\n",
              " {'_id': ['2001'], 'total_countries': 22},\n",
              " {'_id': ['2009'], 'total_countries': 22},\n",
              " {'_id': ['2002'], 'total_countries': 22},\n",
              " {'_id': ['2000'], 'total_countries': 22},\n",
              " {'_id': ['2019'], 'total_countries': 24}]"
            ]
          },
          "metadata": {},
          "execution_count": 40
        }
      ]
    },
    {
      "cell_type": "code",
      "source": [
        "pipeline5 = [\n",
        "    {\"$unwind\": \"$nobelPrizes\"},\n",
        "    {\"$match\":{'nobelPrizes.affiliations.country.en':{\n",
        "            '$exists':1}}},\n",
        "     {\"$group\": {\n",
        "        \"_id\": \"$nobelPrizes.awardYear\",\n",
        "        \"countries\": {\"$addToSet\": \"$nobelPrizes.affiliations.country.en\"}\n",
        "    }},\n",
        "    {\"$sort\":{\"_id\":1}}\n",
        "]\n",
        "\n",
        "result5 = list(lau.aggregate(pipeline5))\n",
        "result5[:5]"
      ],
      "metadata": {
        "id": "Do-RiiWc44HD",
        "colab": {
          "base_uri": "https://localhost:8080/"
        },
        "outputId": "3048e28e-b49e-40d4-9725-8dcb2e12a490"
      },
      "execution_count": 41,
      "outputs": [
        {
          "output_type": "execute_result",
          "data": {
            "text/plain": [
              "[{'_id': '1901', 'countries': [['Germany']]},\n",
              " {'_id': '1902',\n",
              "  'countries': [['Germany'], ['the Netherlands'], ['United Kingdom']]},\n",
              " {'_id': '1903', 'countries': [['France'], ['Denmark'], ['Sweden']]},\n",
              " {'_id': '1904', 'countries': [['United Kingdom'], ['Russia']]},\n",
              " {'_id': '1905', 'countries': [['Germany']]}]"
            ]
          },
          "metadata": {},
          "execution_count": 41
        }
      ]
    },
    {
      "cell_type": "code",
      "source": [
        "_r5 = pd.DataFrame(result5)\n",
        "_p5 = _r5.explode(\"countries\")\n",
        "_p5\n",
        "\n",
        "couXy = _p5.groupby(\"_id\")['countries'].size().reset_index()\n",
        "avgcountry = couXy['countries'].mean()\n",
        "\n",
        "\n",
        "ysel = couXy[couXy['countries']<avgcountry]\n",
        "ysel"
      ],
      "metadata": {
        "colab": {
          "base_uri": "https://localhost:8080/",
          "height": 423
        },
        "id": "gEm_9mGw4lic",
        "outputId": "80c40496-555b-45c0-a81f-fee436497d00"
      },
      "execution_count": 42,
      "outputs": [
        {
          "output_type": "execute_result",
          "data": {
            "text/plain": [
              "      _id  countries\n",
              "0    1901          1\n",
              "1    1902          3\n",
              "2    1903          3\n",
              "3    1904          2\n",
              "4    1905          1\n",
              "..    ...        ...\n",
              "96   2001          3\n",
              "98   2003          3\n",
              "99   2004          3\n",
              "101  2006          1\n",
              "112  2017          3\n",
              "\n",
              "[73 rows x 2 columns]"
            ],
            "text/html": [
              "\n",
              "  <div id=\"df-259ef9c4-cbac-4caf-94ad-8b1dbbaf1add\" class=\"colab-df-container\">\n",
              "    <div>\n",
              "<style scoped>\n",
              "    .dataframe tbody tr th:only-of-type {\n",
              "        vertical-align: middle;\n",
              "    }\n",
              "\n",
              "    .dataframe tbody tr th {\n",
              "        vertical-align: top;\n",
              "    }\n",
              "\n",
              "    .dataframe thead th {\n",
              "        text-align: right;\n",
              "    }\n",
              "</style>\n",
              "<table border=\"1\" class=\"dataframe\">\n",
              "  <thead>\n",
              "    <tr style=\"text-align: right;\">\n",
              "      <th></th>\n",
              "      <th>_id</th>\n",
              "      <th>countries</th>\n",
              "    </tr>\n",
              "  </thead>\n",
              "  <tbody>\n",
              "    <tr>\n",
              "      <th>0</th>\n",
              "      <td>1901</td>\n",
              "      <td>1</td>\n",
              "    </tr>\n",
              "    <tr>\n",
              "      <th>1</th>\n",
              "      <td>1902</td>\n",
              "      <td>3</td>\n",
              "    </tr>\n",
              "    <tr>\n",
              "      <th>2</th>\n",
              "      <td>1903</td>\n",
              "      <td>3</td>\n",
              "    </tr>\n",
              "    <tr>\n",
              "      <th>3</th>\n",
              "      <td>1904</td>\n",
              "      <td>2</td>\n",
              "    </tr>\n",
              "    <tr>\n",
              "      <th>4</th>\n",
              "      <td>1905</td>\n",
              "      <td>1</td>\n",
              "    </tr>\n",
              "    <tr>\n",
              "      <th>...</th>\n",
              "      <td>...</td>\n",
              "      <td>...</td>\n",
              "    </tr>\n",
              "    <tr>\n",
              "      <th>96</th>\n",
              "      <td>2001</td>\n",
              "      <td>3</td>\n",
              "    </tr>\n",
              "    <tr>\n",
              "      <th>98</th>\n",
              "      <td>2003</td>\n",
              "      <td>3</td>\n",
              "    </tr>\n",
              "    <tr>\n",
              "      <th>99</th>\n",
              "      <td>2004</td>\n",
              "      <td>3</td>\n",
              "    </tr>\n",
              "    <tr>\n",
              "      <th>101</th>\n",
              "      <td>2006</td>\n",
              "      <td>1</td>\n",
              "    </tr>\n",
              "    <tr>\n",
              "      <th>112</th>\n",
              "      <td>2017</td>\n",
              "      <td>3</td>\n",
              "    </tr>\n",
              "  </tbody>\n",
              "</table>\n",
              "<p>73 rows × 2 columns</p>\n",
              "</div>\n",
              "    <div class=\"colab-df-buttons\">\n",
              "\n",
              "  <div class=\"colab-df-container\">\n",
              "    <button class=\"colab-df-convert\" onclick=\"convertToInteractive('df-259ef9c4-cbac-4caf-94ad-8b1dbbaf1add')\"\n",
              "            title=\"Convert this dataframe to an interactive table.\"\n",
              "            style=\"display:none;\">\n",
              "\n",
              "  <svg xmlns=\"http://www.w3.org/2000/svg\" height=\"24px\" viewBox=\"0 -960 960 960\">\n",
              "    <path d=\"M120-120v-720h720v720H120Zm60-500h600v-160H180v160Zm220 220h160v-160H400v160Zm0 220h160v-160H400v160ZM180-400h160v-160H180v160Zm440 0h160v-160H620v160ZM180-180h160v-160H180v160Zm440 0h160v-160H620v160Z\"/>\n",
              "  </svg>\n",
              "    </button>\n",
              "\n",
              "  <style>\n",
              "    .colab-df-container {\n",
              "      display:flex;\n",
              "      gap: 12px;\n",
              "    }\n",
              "\n",
              "    .colab-df-convert {\n",
              "      background-color: #E8F0FE;\n",
              "      border: none;\n",
              "      border-radius: 50%;\n",
              "      cursor: pointer;\n",
              "      display: none;\n",
              "      fill: #1967D2;\n",
              "      height: 32px;\n",
              "      padding: 0 0 0 0;\n",
              "      width: 32px;\n",
              "    }\n",
              "\n",
              "    .colab-df-convert:hover {\n",
              "      background-color: #E2EBFA;\n",
              "      box-shadow: 0px 1px 2px rgba(60, 64, 67, 0.3), 0px 1px 3px 1px rgba(60, 64, 67, 0.15);\n",
              "      fill: #174EA6;\n",
              "    }\n",
              "\n",
              "    .colab-df-buttons div {\n",
              "      margin-bottom: 4px;\n",
              "    }\n",
              "\n",
              "    [theme=dark] .colab-df-convert {\n",
              "      background-color: #3B4455;\n",
              "      fill: #D2E3FC;\n",
              "    }\n",
              "\n",
              "    [theme=dark] .colab-df-convert:hover {\n",
              "      background-color: #434B5C;\n",
              "      box-shadow: 0px 1px 3px 1px rgba(0, 0, 0, 0.15);\n",
              "      filter: drop-shadow(0px 1px 2px rgba(0, 0, 0, 0.3));\n",
              "      fill: #FFFFFF;\n",
              "    }\n",
              "  </style>\n",
              "\n",
              "    <script>\n",
              "      const buttonEl =\n",
              "        document.querySelector('#df-259ef9c4-cbac-4caf-94ad-8b1dbbaf1add button.colab-df-convert');\n",
              "      buttonEl.style.display =\n",
              "        google.colab.kernel.accessAllowed ? 'block' : 'none';\n",
              "\n",
              "      async function convertToInteractive(key) {\n",
              "        const element = document.querySelector('#df-259ef9c4-cbac-4caf-94ad-8b1dbbaf1add');\n",
              "        const dataTable =\n",
              "          await google.colab.kernel.invokeFunction('convertToInteractive',\n",
              "                                                    [key], {});\n",
              "        if (!dataTable) return;\n",
              "\n",
              "        const docLinkHtml = 'Like what you see? Visit the ' +\n",
              "          '<a target=\"_blank\" href=https://colab.research.google.com/notebooks/data_table.ipynb>data table notebook</a>'\n",
              "          + ' to learn more about interactive tables.';\n",
              "        element.innerHTML = '';\n",
              "        dataTable['output_type'] = 'display_data';\n",
              "        await google.colab.output.renderOutput(dataTable, element);\n",
              "        const docLink = document.createElement('div');\n",
              "        docLink.innerHTML = docLinkHtml;\n",
              "        element.appendChild(docLink);\n",
              "      }\n",
              "    </script>\n",
              "  </div>\n",
              "\n",
              "\n",
              "<div id=\"df-2c58d715-f48d-4232-b621-b4398ab24599\">\n",
              "  <button class=\"colab-df-quickchart\" onclick=\"quickchart('df-2c58d715-f48d-4232-b621-b4398ab24599')\"\n",
              "            title=\"Suggest charts\"\n",
              "            style=\"display:none;\">\n",
              "\n",
              "<svg xmlns=\"http://www.w3.org/2000/svg\" height=\"24px\"viewBox=\"0 0 24 24\"\n",
              "     width=\"24px\">\n",
              "    <g>\n",
              "        <path d=\"M19 3H5c-1.1 0-2 .9-2 2v14c0 1.1.9 2 2 2h14c1.1 0 2-.9 2-2V5c0-1.1-.9-2-2-2zM9 17H7v-7h2v7zm4 0h-2V7h2v10zm4 0h-2v-4h2v4z\"/>\n",
              "    </g>\n",
              "</svg>\n",
              "  </button>\n",
              "\n",
              "<style>\n",
              "  .colab-df-quickchart {\n",
              "      --bg-color: #E8F0FE;\n",
              "      --fill-color: #1967D2;\n",
              "      --hover-bg-color: #E2EBFA;\n",
              "      --hover-fill-color: #174EA6;\n",
              "      --disabled-fill-color: #AAA;\n",
              "      --disabled-bg-color: #DDD;\n",
              "  }\n",
              "\n",
              "  [theme=dark] .colab-df-quickchart {\n",
              "      --bg-color: #3B4455;\n",
              "      --fill-color: #D2E3FC;\n",
              "      --hover-bg-color: #434B5C;\n",
              "      --hover-fill-color: #FFFFFF;\n",
              "      --disabled-bg-color: #3B4455;\n",
              "      --disabled-fill-color: #666;\n",
              "  }\n",
              "\n",
              "  .colab-df-quickchart {\n",
              "    background-color: var(--bg-color);\n",
              "    border: none;\n",
              "    border-radius: 50%;\n",
              "    cursor: pointer;\n",
              "    display: none;\n",
              "    fill: var(--fill-color);\n",
              "    height: 32px;\n",
              "    padding: 0;\n",
              "    width: 32px;\n",
              "  }\n",
              "\n",
              "  .colab-df-quickchart:hover {\n",
              "    background-color: var(--hover-bg-color);\n",
              "    box-shadow: 0 1px 2px rgba(60, 64, 67, 0.3), 0 1px 3px 1px rgba(60, 64, 67, 0.15);\n",
              "    fill: var(--button-hover-fill-color);\n",
              "  }\n",
              "\n",
              "  .colab-df-quickchart-complete:disabled,\n",
              "  .colab-df-quickchart-complete:disabled:hover {\n",
              "    background-color: var(--disabled-bg-color);\n",
              "    fill: var(--disabled-fill-color);\n",
              "    box-shadow: none;\n",
              "  }\n",
              "\n",
              "  .colab-df-spinner {\n",
              "    border: 2px solid var(--fill-color);\n",
              "    border-color: transparent;\n",
              "    border-bottom-color: var(--fill-color);\n",
              "    animation:\n",
              "      spin 1s steps(1) infinite;\n",
              "  }\n",
              "\n",
              "  @keyframes spin {\n",
              "    0% {\n",
              "      border-color: transparent;\n",
              "      border-bottom-color: var(--fill-color);\n",
              "      border-left-color: var(--fill-color);\n",
              "    }\n",
              "    20% {\n",
              "      border-color: transparent;\n",
              "      border-left-color: var(--fill-color);\n",
              "      border-top-color: var(--fill-color);\n",
              "    }\n",
              "    30% {\n",
              "      border-color: transparent;\n",
              "      border-left-color: var(--fill-color);\n",
              "      border-top-color: var(--fill-color);\n",
              "      border-right-color: var(--fill-color);\n",
              "    }\n",
              "    40% {\n",
              "      border-color: transparent;\n",
              "      border-right-color: var(--fill-color);\n",
              "      border-top-color: var(--fill-color);\n",
              "    }\n",
              "    60% {\n",
              "      border-color: transparent;\n",
              "      border-right-color: var(--fill-color);\n",
              "    }\n",
              "    80% {\n",
              "      border-color: transparent;\n",
              "      border-right-color: var(--fill-color);\n",
              "      border-bottom-color: var(--fill-color);\n",
              "    }\n",
              "    90% {\n",
              "      border-color: transparent;\n",
              "      border-bottom-color: var(--fill-color);\n",
              "    }\n",
              "  }\n",
              "</style>\n",
              "\n",
              "  <script>\n",
              "    async function quickchart(key) {\n",
              "      const quickchartButtonEl =\n",
              "        document.querySelector('#' + key + ' button');\n",
              "      quickchartButtonEl.disabled = true;  // To prevent multiple clicks.\n",
              "      quickchartButtonEl.classList.add('colab-df-spinner');\n",
              "      try {\n",
              "        const charts = await google.colab.kernel.invokeFunction(\n",
              "            'suggestCharts', [key], {});\n",
              "      } catch (error) {\n",
              "        console.error('Error during call to suggestCharts:', error);\n",
              "      }\n",
              "      quickchartButtonEl.classList.remove('colab-df-spinner');\n",
              "      quickchartButtonEl.classList.add('colab-df-quickchart-complete');\n",
              "    }\n",
              "    (() => {\n",
              "      let quickchartButtonEl =\n",
              "        document.querySelector('#df-2c58d715-f48d-4232-b621-b4398ab24599 button');\n",
              "      quickchartButtonEl.style.display =\n",
              "        google.colab.kernel.accessAllowed ? 'block' : 'none';\n",
              "    })();\n",
              "  </script>\n",
              "</div>\n",
              "\n",
              "  <div id=\"id_6a77577c-23f0-4444-859a-b498319bc232\">\n",
              "    <style>\n",
              "      .colab-df-generate {\n",
              "        background-color: #E8F0FE;\n",
              "        border: none;\n",
              "        border-radius: 50%;\n",
              "        cursor: pointer;\n",
              "        display: none;\n",
              "        fill: #1967D2;\n",
              "        height: 32px;\n",
              "        padding: 0 0 0 0;\n",
              "        width: 32px;\n",
              "      }\n",
              "\n",
              "      .colab-df-generate:hover {\n",
              "        background-color: #E2EBFA;\n",
              "        box-shadow: 0px 1px 2px rgba(60, 64, 67, 0.3), 0px 1px 3px 1px rgba(60, 64, 67, 0.15);\n",
              "        fill: #174EA6;\n",
              "      }\n",
              "\n",
              "      [theme=dark] .colab-df-generate {\n",
              "        background-color: #3B4455;\n",
              "        fill: #D2E3FC;\n",
              "      }\n",
              "\n",
              "      [theme=dark] .colab-df-generate:hover {\n",
              "        background-color: #434B5C;\n",
              "        box-shadow: 0px 1px 3px 1px rgba(0, 0, 0, 0.15);\n",
              "        filter: drop-shadow(0px 1px 2px rgba(0, 0, 0, 0.3));\n",
              "        fill: #FFFFFF;\n",
              "      }\n",
              "    </style>\n",
              "    <button class=\"colab-df-generate\" onclick=\"generateWithVariable('ysel')\"\n",
              "            title=\"Generate code using this dataframe.\"\n",
              "            style=\"display:none;\">\n",
              "\n",
              "  <svg xmlns=\"http://www.w3.org/2000/svg\" height=\"24px\"viewBox=\"0 0 24 24\"\n",
              "       width=\"24px\">\n",
              "    <path d=\"M7,19H8.4L18.45,9,17,7.55,7,17.6ZM5,21V16.75L18.45,3.32a2,2,0,0,1,2.83,0l1.4,1.43a1.91,1.91,0,0,1,.58,1.4,1.91,1.91,0,0,1-.58,1.4L9.25,21ZM18.45,9,17,7.55Zm-12,3A5.31,5.31,0,0,0,4.9,8.1,5.31,5.31,0,0,0,1,6.5,5.31,5.31,0,0,0,4.9,4.9,5.31,5.31,0,0,0,6.5,1,5.31,5.31,0,0,0,8.1,4.9,5.31,5.31,0,0,0,12,6.5,5.46,5.46,0,0,0,6.5,12Z\"/>\n",
              "  </svg>\n",
              "    </button>\n",
              "    <script>\n",
              "      (() => {\n",
              "      const buttonEl =\n",
              "        document.querySelector('#id_6a77577c-23f0-4444-859a-b498319bc232 button.colab-df-generate');\n",
              "      buttonEl.style.display =\n",
              "        google.colab.kernel.accessAllowed ? 'block' : 'none';\n",
              "\n",
              "      buttonEl.onclick = () => {\n",
              "        google.colab.notebook.generateWithVariable('ysel');\n",
              "      }\n",
              "      })();\n",
              "    </script>\n",
              "  </div>\n",
              "\n",
              "    </div>\n",
              "  </div>\n"
            ],
            "application/vnd.google.colaboratory.intrinsic+json": {
              "type": "dataframe",
              "variable_name": "ysel",
              "summary": "{\n  \"name\": \"ysel\",\n  \"rows\": 73,\n  \"fields\": [\n    {\n      \"column\": \"_id\",\n      \"properties\": {\n        \"dtype\": \"object\",\n        \"num_unique_values\": 73,\n        \"samples\": [\n          \"1905\",\n          \"1994\",\n          \"1921\"\n        ],\n        \"semantic_type\": \"\",\n        \"description\": \"\"\n      }\n    },\n    {\n      \"column\": \"countries\",\n      \"properties\": {\n        \"dtype\": \"number\",\n        \"std\": 0,\n        \"min\": 1,\n        \"max\": 3,\n        \"num_unique_values\": 3,\n        \"samples\": [\n          1,\n          3,\n          2\n        ],\n        \"semantic_type\": \"\",\n        \"description\": \"\"\n      }\n    }\n  ]\n}"
            }
          },
          "metadata": {},
          "execution_count": 42
        }
      ]
    },
    {
      "cell_type": "code",
      "source": [
        "res5 = ysel['_id'].unique()\n",
        "\n",
        "print(f'El listado de anios con participacion de paises menor al promedio es')\n",
        "res5"
      ],
      "metadata": {
        "id": "af40y2wx3P4A",
        "colab": {
          "base_uri": "https://localhost:8080/"
        },
        "outputId": "ce902c2e-050f-4c3e-ee51-1f9504e58f17"
      },
      "execution_count": 43,
      "outputs": [
        {
          "output_type": "stream",
          "name": "stdout",
          "text": [
            "El listado de anios con participacion de paises menor al promedio es\n"
          ]
        },
        {
          "output_type": "execute_result",
          "data": {
            "text/plain": [
              "array(['1901', '1902', '1903', '1904', '1905', '1907', '1908', '1909',\n",
              "       '1910', '1911', '1912', '1913', '1914', '1915', '1917', '1918',\n",
              "       '1919', '1920', '1921', '1922', '1923', '1924', '1925', '1926',\n",
              "       '1928', '1930', '1931', '1932', '1933', '1934', '1935', '1938',\n",
              "       '1943', '1944', '1945', '1946', '1947', '1948', '1951', '1952',\n",
              "       '1955', '1957', '1959', '1960', '1961', '1962', '1965', '1966',\n",
              "       '1968', '1971', '1972', '1976', '1980', '1981', '1982', '1983',\n",
              "       '1984', '1985', '1987', '1989', '1990', '1992', '1993', '1994',\n",
              "       '1995', '1996', '1998', '1999', '2001', '2003', '2004', '2006',\n",
              "       '2017'], dtype=object)"
            ]
          },
          "metadata": {},
          "execution_count": 43
        }
      ]
    },
    {
      "cell_type": "code",
      "source": [
        "#\n",
        "\"\"\"\n",
        "pipeline = [\n",
        "    {\"$unwind\": \"$nobelPrizes\"},\n",
        "    {\"$group\": {\n",
        "        \"_id\": {\"year\": \"$nobelPrizes.awardYear\", \"country\": \"$birth.place.countryNow\"},\n",
        "    }},\n",
        "    {\"$group\": {\n",
        "        \"_id\": \"$_id.year\",\n",
        "        \"country_count\": {\"$sum\": 1}\n",
        "    }},\n",
        "    {\"$group\": {\n",
        "        \"_id\": None,\n",
        "        \"average_country_count\": {\"$avg\": \"$country_count\"},\n",
        "        \"yearly_data\": {\"$push\": {\"year\": \"$_id\", \"country_count\": \"$country_count\"}}\n",
        "    }},\n",
        "    {\"$project\": {\n",
        "        \"average_country_count\": 1,\n",
        "        \"years_below_average\": {\n",
        "            \"$filter\": {\n",
        "                \"input\": \"$yearly_data\",\n",
        "                \"as\": \"yearData\",\n",
        "                \"cond\": {\"$lt\": [\"$$yearData.country_count\", \"$average_country_count\"]}\n",
        "            }\n",
        "        }\n",
        "    }},\n",
        "    {\"$unwind\": \"$years_below_average\"},\n",
        "    {\"$project\": {\n",
        "        \"_id\": 0,\n",
        "        \"year\": \"$years_below_average.year\",\n",
        "        \"country_count\": \"$years_below_average.country_count\"\n",
        "    }}\n",
        "]\n",
        "\n",
        "# Execute the aggregation pipeline\n",
        "result = list(lau.aggregate(pipeline))\n",
        "\n",
        "# Print the result\n",
        "for doc in result:\n",
        "    print(doc)\n",
        "\"\"\""
      ],
      "metadata": {
        "colab": {
          "base_uri": "https://localhost:8080/",
          "height": 127
        },
        "id": "5SVPSspZn6jB",
        "outputId": "5532fea9-d9cc-4f7e-f4c5-e84eca6b40b0"
      },
      "execution_count": 44,
      "outputs": [
        {
          "output_type": "execute_result",
          "data": {
            "text/plain": [
              "'\\npipeline = [\\n    {\"$unwind\": \"$nobelPrizes\"},\\n    {\"$group\": {\\n        \"_id\": {\"year\": \"$nobelPrizes.awardYear\", \"country\": \"$birth.place.countryNow\"},\\n    }},\\n    {\"$group\": {\\n        \"_id\": \"$_id.year\",\\n        \"country_count\": {\"$sum\": 1}\\n    }},\\n    {\"$group\": {\\n        \"_id\": None,\\n        \"average_country_count\": {\"$avg\": \"$country_count\"},\\n        \"yearly_data\": {\"$push\": {\"year\": \"$_id\", \"country_count\": \"$country_count\"}}\\n    }},\\n    {\"$project\": {\\n        \"average_country_count\": 1,\\n        \"years_below_average\": {\\n            \"$filter\": {\\n                \"input\": \"$yearly_data\",\\n                \"as\": \"yearData\",\\n                \"cond\": {\"$lt\": [\"$$yearData.country_count\", \"$average_country_count\"]}\\n            }\\n        }\\n    }},\\n    {\"$unwind\": \"$years_below_average\"},\\n    {\"$project\": {\\n        \"_id\": 0,\\n        \"year\": \"$years_below_average.year\",\\n        \"country_count\": \"$years_below_average.country_count\"\\n    }}\\n]\\n\\n# Execute the aggregation pipeline\\nresult = list(lau.aggregate(pipeline))\\n\\n# Print the result\\nfor doc in result:\\n    print(doc)\\n'"
            ],
            "application/vnd.google.colaboratory.intrinsic+json": {
              "type": "string"
            }
          },
          "metadata": {},
          "execution_count": 44
        }
      ]
    },
    {
      "cell_type": "code",
      "source": [
        "# intentos alternativos antes de pedir ayuda para conectar con mongo"
      ],
      "metadata": {
        "id": "RRP0rVyFvIm-"
      },
      "execution_count": 45,
      "outputs": []
    },
    {
      "cell_type": "code",
      "source": [
        "#client = MongoClient('mongodb://localhost:27017/')"
      ],
      "metadata": {
        "id": "nyacL9a9vNdZ"
      },
      "execution_count": 46,
      "outputs": []
    },
    {
      "cell_type": "code",
      "source": [
        "#db = client['nobel']"
      ],
      "metadata": {
        "id": "VYnC4UG8vQy8"
      },
      "execution_count": 47,
      "outputs": []
    },
    {
      "cell_type": "code",
      "source": [
        "!test -f \"MyDrive/NoSQL/json_award.json\" && echo \"File exists\" || echo \"File does not exist\""
      ],
      "metadata": {
        "id": "TBU6RBdW6g8U",
        "colab": {
          "base_uri": "https://localhost:8080/"
        },
        "outputId": "8a395b6a-6123-47e6-e235-d4129fb3023a"
      },
      "execution_count": 48,
      "outputs": [
        {
          "output_type": "stream",
          "name": "stdout",
          "text": [
            "File exists\n"
          ]
        }
      ]
    },
    {
      "cell_type": "code",
      "source": [
        "\"\"\"import pandas as pd\n",
        "\n",
        "# Assuming the data file is a CSV file\n",
        "#file_path = '/content/drive/MyDrive/NoSQL/json_award.json'\n",
        "file_path = 'MyDrive/NoSQL/json_award.json'\n",
        "\n",
        "#/content/gdrive/MyDrive/NoSQL\n",
        "d_awa = pd.read_json(file_path)\n",
        "file_path2 = 'MyDrive/NoSQL/json_laureates.json'\n",
        "d_lau = pd.read_json(file_path2)\n",
        "\n",
        "\n",
        "# Convert the data to a list of dictionaries\n",
        "ddict = d_awa.to_dict(orient='records')\n",
        "ddict2 = d_lau.to_dict(orient='records')\n",
        "\n",
        "\n",
        "# Insert the data into a collection\n",
        "awards = db['awards']\n",
        "awards.insert_many(ddict)\n",
        "\n",
        "laurates = db['laurates']\n",
        "laurates.insert_many(ddict2)\n",
        "\"\"\""
      ],
      "metadata": {
        "id": "-E9-RWhgvYMj",
        "colab": {
          "base_uri": "https://localhost:8080/",
          "height": 90
        },
        "outputId": "eff258ec-e649-417b-8cf9-fd64107726d9"
      },
      "execution_count": 49,
      "outputs": [
        {
          "output_type": "execute_result",
          "data": {
            "text/plain": [
              "\"import pandas as pd\\n\\n# Assuming the data file is a CSV file\\n#file_path = '/content/drive/MyDrive/NoSQL/json_award.json'\\nfile_path = 'MyDrive/NoSQL/json_award.json'\\n\\n#/content/gdrive/MyDrive/NoSQL\\nd_awa = pd.read_json(file_path)\\nfile_path2 = 'MyDrive/NoSQL/json_laureates.json'\\nd_lau = pd.read_json(file_path2)\\n\\n\\n# Convert the data to a list of dictionaries\\nddict = d_awa.to_dict(orient='records')\\nddict2 = d_lau.to_dict(orient='records')\\n\\n\\n# Insert the data into a collection\\nawards = db['awards']\\nawards.insert_many(ddict)\\n\\nlaurates = db['laurates']\\nlaurates.insert_many(ddict2)\\n\""
            ],
            "application/vnd.google.colaboratory.intrinsic+json": {
              "type": "string"
            }
          },
          "metadata": {},
          "execution_count": 49
        }
      ]
    }
  ]
}